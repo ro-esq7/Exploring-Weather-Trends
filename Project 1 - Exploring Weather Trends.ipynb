{
 "cells": [
  {
   "cell_type": "markdown",
   "id": "b4b2fa94",
   "metadata": {},
   "source": [
    "# Import Dependencies"
   ]
  },
  {
   "cell_type": "code",
   "execution_count": 1,
   "id": "c7101f61",
   "metadata": {},
   "outputs": [],
   "source": [
    "# For clean-up & plot\n",
    "\n",
    "import pandas as pd\n",
    "import numpy as np\n",
    "import matplotlib.pyplot as plt\n",
    "\n",
    "%matplotlib inline\n",
    "\n",
    "# For tables & chart to show in PDF download\n",
    "\n",
    "from IPython.display import set_matplotlib_formats\n",
    "set_matplotlib_formats('png', 'pdf')\n",
    "\n",
    "# For hyperlinks to show in PDF download\n",
    "\n",
    "from IPython.core.display import HTML"
   ]
  },
  {
   "cell_type": "markdown",
   "id": "f6e0e1cf",
   "metadata": {},
   "source": [
    "# Load Data"
   ]
  },
  {
   "cell_type": "code",
   "execution_count": 2,
   "id": "3570c21c",
   "metadata": {},
   "outputs": [],
   "source": [
    "nyc_data = \"RawData/nyc_data.csv\"\n",
    "global_data = \"RawData/global_data.csv\"\n",
    "\n",
    "nyc = pd.read_csv(nyc_data)\n",
    "global_df = pd.read_csv(global_data)"
   ]
  },
  {
   "cell_type": "markdown",
   "id": "d536c97e",
   "metadata": {},
   "source": [
    "# Clean Data"
   ]
  },
  {
   "cell_type": "markdown",
   "id": "1ecb510c",
   "metadata": {},
   "source": [
    "## City Data"
   ]
  },
  {
   "cell_type": "code",
   "execution_count": 3,
   "id": "fff019e7",
   "metadata": {},
   "outputs": [
    {
     "data": {
      "text/html": [
       "<div>\n",
       "<style scoped>\n",
       "    .dataframe tbody tr th:only-of-type {\n",
       "        vertical-align: middle;\n",
       "    }\n",
       "\n",
       "    .dataframe tbody tr th {\n",
       "        vertical-align: top;\n",
       "    }\n",
       "\n",
       "    .dataframe thead th {\n",
       "        text-align: right;\n",
       "    }\n",
       "</style>\n",
       "<table border=\"1\" class=\"dataframe\">\n",
       "  <thead>\n",
       "    <tr style=\"text-align: right;\">\n",
       "      <th></th>\n",
       "      <th>year</th>\n",
       "      <th>city</th>\n",
       "      <th>country</th>\n",
       "      <th>avg_temp</th>\n",
       "    </tr>\n",
       "  </thead>\n",
       "  <tbody>\n",
       "    <tr>\n",
       "      <th>0</th>\n",
       "      <td>1743</td>\n",
       "      <td>New York</td>\n",
       "      <td>United States</td>\n",
       "      <td>3.26</td>\n",
       "    </tr>\n",
       "    <tr>\n",
       "      <th>1</th>\n",
       "      <td>1744</td>\n",
       "      <td>New York</td>\n",
       "      <td>United States</td>\n",
       "      <td>11.66</td>\n",
       "    </tr>\n",
       "    <tr>\n",
       "      <th>2</th>\n",
       "      <td>1745</td>\n",
       "      <td>New York</td>\n",
       "      <td>United States</td>\n",
       "      <td>1.13</td>\n",
       "    </tr>\n",
       "    <tr>\n",
       "      <th>3</th>\n",
       "      <td>1746</td>\n",
       "      <td>New York</td>\n",
       "      <td>United States</td>\n",
       "      <td>NaN</td>\n",
       "    </tr>\n",
       "    <tr>\n",
       "      <th>4</th>\n",
       "      <td>1747</td>\n",
       "      <td>New York</td>\n",
       "      <td>United States</td>\n",
       "      <td>NaN</td>\n",
       "    </tr>\n",
       "  </tbody>\n",
       "</table>\n",
       "</div>"
      ],
      "text/plain": [
       "   year      city        country  avg_temp\n",
       "0  1743  New York  United States      3.26\n",
       "1  1744  New York  United States     11.66\n",
       "2  1745  New York  United States      1.13\n",
       "3  1746  New York  United States       NaN\n",
       "4  1747  New York  United States       NaN"
      ]
     },
     "metadata": {},
     "output_type": "display_data"
    }
   ],
   "source": [
    "display(nyc.head())"
   ]
  },
  {
   "cell_type": "code",
   "execution_count": 4,
   "id": "80fc21e7",
   "metadata": {
    "scrolled": true
   },
   "outputs": [
    {
     "data": {
      "text/html": [
       "<div>\n",
       "<style scoped>\n",
       "    .dataframe tbody tr th:only-of-type {\n",
       "        vertical-align: middle;\n",
       "    }\n",
       "\n",
       "    .dataframe tbody tr th {\n",
       "        vertical-align: top;\n",
       "    }\n",
       "\n",
       "    .dataframe thead th {\n",
       "        text-align: right;\n",
       "    }\n",
       "</style>\n",
       "<table border=\"1\" class=\"dataframe\">\n",
       "  <thead>\n",
       "    <tr style=\"text-align: right;\">\n",
       "      <th></th>\n",
       "      <th>Year</th>\n",
       "      <th>City</th>\n",
       "      <th>Country</th>\n",
       "      <th>NYC Temp. (C°)</th>\n",
       "    </tr>\n",
       "  </thead>\n",
       "  <tbody>\n",
       "    <tr>\n",
       "      <th>0</th>\n",
       "      <td>1743</td>\n",
       "      <td>New York</td>\n",
       "      <td>United States</td>\n",
       "      <td>3.26</td>\n",
       "    </tr>\n",
       "    <tr>\n",
       "      <th>1</th>\n",
       "      <td>1744</td>\n",
       "      <td>New York</td>\n",
       "      <td>United States</td>\n",
       "      <td>11.66</td>\n",
       "    </tr>\n",
       "    <tr>\n",
       "      <th>2</th>\n",
       "      <td>1745</td>\n",
       "      <td>New York</td>\n",
       "      <td>United States</td>\n",
       "      <td>1.13</td>\n",
       "    </tr>\n",
       "    <tr>\n",
       "      <th>3</th>\n",
       "      <td>1750</td>\n",
       "      <td>New York</td>\n",
       "      <td>United States</td>\n",
       "      <td>10.07</td>\n",
       "    </tr>\n",
       "    <tr>\n",
       "      <th>4</th>\n",
       "      <td>1751</td>\n",
       "      <td>New York</td>\n",
       "      <td>United States</td>\n",
       "      <td>10.79</td>\n",
       "    </tr>\n",
       "  </tbody>\n",
       "</table>\n",
       "</div>"
      ],
      "text/plain": [
       "   Year      City        Country  NYC Temp. (C°)\n",
       "0  1743  New York  United States            3.26\n",
       "1  1744  New York  United States           11.66\n",
       "2  1745  New York  United States            1.13\n",
       "3  1750  New York  United States           10.07\n",
       "4  1751  New York  United States           10.79"
      ]
     },
     "metadata": {},
     "output_type": "display_data"
    }
   ],
   "source": [
    "# Drop Null Values\n",
    "\n",
    "nyc.dropna(inplace=True)\n",
    "\n",
    "\n",
    "# Update Column Names\n",
    "\n",
    "nyc_update = nyc.rename(columns={\"year\": 'Year', \n",
    "                             \"city\": 'City', \n",
    "                             \"country\": 'Country', \n",
    "                             \"avg_temp\": 'NYC Temp. (C°)'})\n",
    "\n",
    "# Reset Index\n",
    "\n",
    "nyc_df = nyc_update.reset_index(drop=True)\n",
    "\n",
    "display(nyc_df.head())"
   ]
  },
  {
   "cell_type": "markdown",
   "id": "5ffe98f8",
   "metadata": {},
   "source": [
    "## Global Data"
   ]
  },
  {
   "cell_type": "code",
   "execution_count": 5,
   "id": "b55d55bb",
   "metadata": {},
   "outputs": [
    {
     "data": {
      "text/html": [
       "<div>\n",
       "<style scoped>\n",
       "    .dataframe tbody tr th:only-of-type {\n",
       "        vertical-align: middle;\n",
       "    }\n",
       "\n",
       "    .dataframe tbody tr th {\n",
       "        vertical-align: top;\n",
       "    }\n",
       "\n",
       "    .dataframe thead th {\n",
       "        text-align: right;\n",
       "    }\n",
       "</style>\n",
       "<table border=\"1\" class=\"dataframe\">\n",
       "  <thead>\n",
       "    <tr style=\"text-align: right;\">\n",
       "      <th></th>\n",
       "      <th>year</th>\n",
       "      <th>avg_temp</th>\n",
       "    </tr>\n",
       "  </thead>\n",
       "  <tbody>\n",
       "    <tr>\n",
       "      <th>0</th>\n",
       "      <td>1750</td>\n",
       "      <td>8.72</td>\n",
       "    </tr>\n",
       "    <tr>\n",
       "      <th>1</th>\n",
       "      <td>1751</td>\n",
       "      <td>7.98</td>\n",
       "    </tr>\n",
       "    <tr>\n",
       "      <th>2</th>\n",
       "      <td>1752</td>\n",
       "      <td>5.78</td>\n",
       "    </tr>\n",
       "    <tr>\n",
       "      <th>3</th>\n",
       "      <td>1753</td>\n",
       "      <td>8.39</td>\n",
       "    </tr>\n",
       "    <tr>\n",
       "      <th>4</th>\n",
       "      <td>1754</td>\n",
       "      <td>8.47</td>\n",
       "    </tr>\n",
       "  </tbody>\n",
       "</table>\n",
       "</div>"
      ],
      "text/plain": [
       "   year  avg_temp\n",
       "0  1750      8.72\n",
       "1  1751      7.98\n",
       "2  1752      5.78\n",
       "3  1753      8.39\n",
       "4  1754      8.47"
      ]
     },
     "metadata": {},
     "output_type": "display_data"
    }
   ],
   "source": [
    "display(global_df.head())"
   ]
  },
  {
   "cell_type": "code",
   "execution_count": 6,
   "id": "306becfa",
   "metadata": {},
   "outputs": [
    {
     "name": "stdout",
     "output_type": "stream",
     "text": [
      "<class 'pandas.core.frame.DataFrame'>\n",
      "RangeIndex: 266 entries, 0 to 265\n",
      "Data columns (total 2 columns):\n",
      " #   Column    Non-Null Count  Dtype  \n",
      "---  ------    --------------  -----  \n",
      " 0   year      266 non-null    int64  \n",
      " 1   avg_temp  266 non-null    float64\n",
      "dtypes: float64(1), int64(1)\n",
      "memory usage: 4.3 KB\n"
     ]
    }
   ],
   "source": [
    "# Check for null values\n",
    "\n",
    "global_df.info()"
   ]
  },
  {
   "cell_type": "code",
   "execution_count": 7,
   "id": "1abd5726",
   "metadata": {},
   "outputs": [
    {
     "data": {
      "text/html": [
       "<div>\n",
       "<style scoped>\n",
       "    .dataframe tbody tr th:only-of-type {\n",
       "        vertical-align: middle;\n",
       "    }\n",
       "\n",
       "    .dataframe tbody tr th {\n",
       "        vertical-align: top;\n",
       "    }\n",
       "\n",
       "    .dataframe thead th {\n",
       "        text-align: right;\n",
       "    }\n",
       "</style>\n",
       "<table border=\"1\" class=\"dataframe\">\n",
       "  <thead>\n",
       "    <tr style=\"text-align: right;\">\n",
       "      <th></th>\n",
       "      <th>Year</th>\n",
       "      <th>Global Temp. (C°)</th>\n",
       "    </tr>\n",
       "  </thead>\n",
       "  <tbody>\n",
       "    <tr>\n",
       "      <th>0</th>\n",
       "      <td>1750</td>\n",
       "      <td>8.72</td>\n",
       "    </tr>\n",
       "    <tr>\n",
       "      <th>1</th>\n",
       "      <td>1751</td>\n",
       "      <td>7.98</td>\n",
       "    </tr>\n",
       "    <tr>\n",
       "      <th>2</th>\n",
       "      <td>1752</td>\n",
       "      <td>5.78</td>\n",
       "    </tr>\n",
       "    <tr>\n",
       "      <th>3</th>\n",
       "      <td>1753</td>\n",
       "      <td>8.39</td>\n",
       "    </tr>\n",
       "    <tr>\n",
       "      <th>4</th>\n",
       "      <td>1754</td>\n",
       "      <td>8.47</td>\n",
       "    </tr>\n",
       "  </tbody>\n",
       "</table>\n",
       "</div>"
      ],
      "text/plain": [
       "   Year  Global Temp. (C°)\n",
       "0  1750               8.72\n",
       "1  1751               7.98\n",
       "2  1752               5.78\n",
       "3  1753               8.39\n",
       "4  1754               8.47"
      ]
     },
     "metadata": {},
     "output_type": "display_data"
    }
   ],
   "source": [
    "# Update Column Names\n",
    "\n",
    "glo_df = global_df.rename(columns={\"year\": 'Year', \n",
    "                                     \"avg_temp\": 'Global Temp. (C°)'})\n",
    "\n",
    "display(glo_df.head())"
   ]
  },
  {
   "cell_type": "markdown",
   "id": "47560322",
   "metadata": {},
   "source": [
    "## Merge Tables"
   ]
  },
  {
   "cell_type": "code",
   "execution_count": 8,
   "id": "8de0906a",
   "metadata": {},
   "outputs": [
    {
     "data": {
      "text/html": [
       "<div>\n",
       "<style scoped>\n",
       "    .dataframe tbody tr th:only-of-type {\n",
       "        vertical-align: middle;\n",
       "    }\n",
       "\n",
       "    .dataframe tbody tr th {\n",
       "        vertical-align: top;\n",
       "    }\n",
       "\n",
       "    .dataframe thead th {\n",
       "        text-align: right;\n",
       "    }\n",
       "</style>\n",
       "<table border=\"1\" class=\"dataframe\">\n",
       "  <thead>\n",
       "    <tr style=\"text-align: right;\">\n",
       "      <th></th>\n",
       "      <th>Year</th>\n",
       "      <th>NYC Temp. (C°)</th>\n",
       "      <th>Global Temp. (C°)</th>\n",
       "    </tr>\n",
       "  </thead>\n",
       "  <tbody>\n",
       "    <tr>\n",
       "      <th>0</th>\n",
       "      <td>1743</td>\n",
       "      <td>3.26</td>\n",
       "      <td>NaN</td>\n",
       "    </tr>\n",
       "    <tr>\n",
       "      <th>1</th>\n",
       "      <td>1744</td>\n",
       "      <td>11.66</td>\n",
       "      <td>NaN</td>\n",
       "    </tr>\n",
       "    <tr>\n",
       "      <th>2</th>\n",
       "      <td>1745</td>\n",
       "      <td>1.13</td>\n",
       "      <td>NaN</td>\n",
       "    </tr>\n",
       "    <tr>\n",
       "      <th>3</th>\n",
       "      <td>1750</td>\n",
       "      <td>10.07</td>\n",
       "      <td>8.72</td>\n",
       "    </tr>\n",
       "    <tr>\n",
       "      <th>4</th>\n",
       "      <td>1751</td>\n",
       "      <td>10.79</td>\n",
       "      <td>7.98</td>\n",
       "    </tr>\n",
       "  </tbody>\n",
       "</table>\n",
       "</div>"
      ],
      "text/plain": [
       "   Year  NYC Temp. (C°)  Global Temp. (C°)\n",
       "0  1743            3.26                NaN\n",
       "1  1744           11.66                NaN\n",
       "2  1745            1.13                NaN\n",
       "3  1750           10.07               8.72\n",
       "4  1751           10.79               7.98"
      ]
     },
     "metadata": {},
     "output_type": "display_data"
    }
   ],
   "source": [
    "# Merge\n",
    "\n",
    "merge_df = pd.merge(nyc_df, glo_df, on=\"Year\", how=\"left\")\n",
    "\n",
    "# Drop Irrelevant Columns\n",
    "\n",
    "data_df = merge_df.drop(columns=['City', 'Country'])\n",
    "\n",
    "display(data_df.head())"
   ]
  },
  {
   "cell_type": "code",
   "execution_count": 9,
   "id": "8f26ca5a",
   "metadata": {},
   "outputs": [
    {
     "data": {
      "text/html": [
       "<div>\n",
       "<style scoped>\n",
       "    .dataframe tbody tr th:only-of-type {\n",
       "        vertical-align: middle;\n",
       "    }\n",
       "\n",
       "    .dataframe tbody tr th {\n",
       "        vertical-align: top;\n",
       "    }\n",
       "\n",
       "    .dataframe thead th {\n",
       "        text-align: right;\n",
       "    }\n",
       "</style>\n",
       "<table border=\"1\" class=\"dataframe\">\n",
       "  <thead>\n",
       "    <tr style=\"text-align: right;\">\n",
       "      <th></th>\n",
       "      <th>Year</th>\n",
       "      <th>NYC Temp. (C°)</th>\n",
       "      <th>Global Temp. (C°)</th>\n",
       "    </tr>\n",
       "  </thead>\n",
       "  <tbody>\n",
       "    <tr>\n",
       "      <th>162</th>\n",
       "      <td>1913</td>\n",
       "      <td>10.76</td>\n",
       "      <td>8.30</td>\n",
       "    </tr>\n",
       "    <tr>\n",
       "      <th>163</th>\n",
       "      <td>1914</td>\n",
       "      <td>9.02</td>\n",
       "      <td>8.59</td>\n",
       "    </tr>\n",
       "    <tr>\n",
       "      <th>164</th>\n",
       "      <td>1915</td>\n",
       "      <td>9.85</td>\n",
       "      <td>8.59</td>\n",
       "    </tr>\n",
       "    <tr>\n",
       "      <th>165</th>\n",
       "      <td>1916</td>\n",
       "      <td>9.10</td>\n",
       "      <td>8.23</td>\n",
       "    </tr>\n",
       "    <tr>\n",
       "      <th>166</th>\n",
       "      <td>1917</td>\n",
       "      <td>8.24</td>\n",
       "      <td>8.02</td>\n",
       "    </tr>\n",
       "  </tbody>\n",
       "</table>\n",
       "</div>"
      ],
      "text/plain": [
       "     Year  NYC Temp. (C°)  Global Temp. (C°)\n",
       "162  1913           10.76               8.30\n",
       "163  1914            9.02               8.59\n",
       "164  1915            9.85               8.59\n",
       "165  1916            9.10               8.23\n",
       "166  1917            8.24               8.02"
      ]
     },
     "metadata": {},
     "output_type": "display_data"
    }
   ],
   "source": [
    "# Drop Null Values\n",
    "\n",
    "data_df.dropna(inplace=True)\n",
    "\n",
    "# Reset Index \n",
    "\n",
    "trends = data_df.reset_index(drop=True)\n",
    "\n",
    "# Drop rows to only display 1913 - 2013 (100-year period)\n",
    "\n",
    "trends_df = trends.drop(trends.index[range(162)])\n",
    "\n",
    "display(trends_df.head())"
   ]
  },
  {
   "cell_type": "markdown",
   "id": "35fcb417",
   "metadata": {},
   "source": [
    "# Find the Moving Average"
   ]
  },
  {
   "cell_type": "code",
   "execution_count": 10,
   "id": "4fb9ecc4",
   "metadata": {},
   "outputs": [
    {
     "data": {
      "text/html": [
       "<div>\n",
       "<style scoped>\n",
       "    .dataframe tbody tr th:only-of-type {\n",
       "        vertical-align: middle;\n",
       "    }\n",
       "\n",
       "    .dataframe tbody tr th {\n",
       "        vertical-align: top;\n",
       "    }\n",
       "\n",
       "    .dataframe thead th {\n",
       "        text-align: right;\n",
       "    }\n",
       "</style>\n",
       "<table border=\"1\" class=\"dataframe\">\n",
       "  <thead>\n",
       "    <tr style=\"text-align: right;\">\n",
       "      <th></th>\n",
       "      <th>NYC M.A. (C°)</th>\n",
       "      <th>Global M.A. (C°)</th>\n",
       "      <th>Year</th>\n",
       "    </tr>\n",
       "  </thead>\n",
       "  <tbody>\n",
       "    <tr>\n",
       "      <th>162</th>\n",
       "      <td>10.760000</td>\n",
       "      <td>8.300000</td>\n",
       "      <td>1913</td>\n",
       "    </tr>\n",
       "    <tr>\n",
       "      <th>163</th>\n",
       "      <td>9.890000</td>\n",
       "      <td>8.445000</td>\n",
       "      <td>1914</td>\n",
       "    </tr>\n",
       "    <tr>\n",
       "      <th>164</th>\n",
       "      <td>9.876667</td>\n",
       "      <td>8.493333</td>\n",
       "      <td>1915</td>\n",
       "    </tr>\n",
       "    <tr>\n",
       "      <th>165</th>\n",
       "      <td>9.682500</td>\n",
       "      <td>8.427500</td>\n",
       "      <td>1916</td>\n",
       "    </tr>\n",
       "    <tr>\n",
       "      <th>166</th>\n",
       "      <td>9.394000</td>\n",
       "      <td>8.346000</td>\n",
       "      <td>1917</td>\n",
       "    </tr>\n",
       "  </tbody>\n",
       "</table>\n",
       "</div>"
      ],
      "text/plain": [
       "     NYC M.A. (C°)  Global M.A. (C°)  Year\n",
       "162      10.760000          8.300000  1913\n",
       "163       9.890000          8.445000  1914\n",
       "164       9.876667          8.493333  1915\n",
       "165       9.682500          8.427500  1916\n",
       "166       9.394000          8.346000  1917"
      ]
     },
     "metadata": {},
     "output_type": "display_data"
    }
   ],
   "source": [
    "# Calculate the moving average for NYC & Global\n",
    "\n",
    "nyc_ma = trends_df[\"NYC Temp. (C°)\"].rolling(15, min_periods=1).mean()\n",
    "global_ma = trends_df[\"Global Temp. (C°)\"].rolling(15, min_periods=1).mean()\n",
    "year_col = trends_df[\"Year\"]\n",
    "\n",
    "\n",
    "# Add values to a new DataFrame\n",
    "\n",
    "new_df = pd.DataFrame({'NYC M.A. (C°)': nyc_ma,\n",
    "                       'Global M.A. (C°)': global_ma,\n",
    "                      'Year': year_col})\n",
    "\n",
    "display(new_df.head())"
   ]
  },
  {
   "cell_type": "code",
   "execution_count": 11,
   "id": "0773a5aa",
   "metadata": {},
   "outputs": [
    {
     "data": {
      "text/html": [
       "<div>\n",
       "<style scoped>\n",
       "    .dataframe tbody tr th:only-of-type {\n",
       "        vertical-align: middle;\n",
       "    }\n",
       "\n",
       "    .dataframe tbody tr th {\n",
       "        vertical-align: top;\n",
       "    }\n",
       "\n",
       "    .dataframe thead th {\n",
       "        text-align: right;\n",
       "    }\n",
       "</style>\n",
       "<table border=\"1\" class=\"dataframe\">\n",
       "  <thead>\n",
       "    <tr style=\"text-align: right;\">\n",
       "      <th></th>\n",
       "      <th>NYC M.A. (C°)</th>\n",
       "      <th>Global M.A. (C°)</th>\n",
       "      <th>Year</th>\n",
       "    </tr>\n",
       "  </thead>\n",
       "  <tbody>\n",
       "    <tr>\n",
       "      <th>162</th>\n",
       "      <td>10.76</td>\n",
       "      <td>8.30</td>\n",
       "      <td>1913</td>\n",
       "    </tr>\n",
       "    <tr>\n",
       "      <th>163</th>\n",
       "      <td>9.89</td>\n",
       "      <td>8.44</td>\n",
       "      <td>1914</td>\n",
       "    </tr>\n",
       "    <tr>\n",
       "      <th>164</th>\n",
       "      <td>9.88</td>\n",
       "      <td>8.49</td>\n",
       "      <td>1915</td>\n",
       "    </tr>\n",
       "    <tr>\n",
       "      <th>165</th>\n",
       "      <td>9.68</td>\n",
       "      <td>8.43</td>\n",
       "      <td>1916</td>\n",
       "    </tr>\n",
       "    <tr>\n",
       "      <th>166</th>\n",
       "      <td>9.39</td>\n",
       "      <td>8.35</td>\n",
       "      <td>1917</td>\n",
       "    </tr>\n",
       "  </tbody>\n",
       "</table>\n",
       "</div>"
      ],
      "text/plain": [
       "     NYC M.A. (C°)  Global M.A. (C°)  Year\n",
       "162          10.76              8.30  1913\n",
       "163           9.89              8.44  1914\n",
       "164           9.88              8.49  1915\n",
       "165           9.68              8.43  1916\n",
       "166           9.39              8.35  1917"
      ]
     },
     "metadata": {},
     "output_type": "display_data"
    }
   ],
   "source": [
    "# Round values to 2 decimal points\n",
    "\n",
    "round_df = new_df.round({'NYC M.A. (C°)': 2, \n",
    "                         'Global M.A. (C°)': 2})\n",
    "\n",
    "display(round_df.head())"
   ]
  },
  {
   "cell_type": "code",
   "execution_count": 12,
   "id": "86a90c1d",
   "metadata": {},
   "outputs": [
    {
     "data": {
      "text/html": [
       "<div>\n",
       "<style scoped>\n",
       "    .dataframe tbody tr th:only-of-type {\n",
       "        vertical-align: middle;\n",
       "    }\n",
       "\n",
       "    .dataframe tbody tr th {\n",
       "        vertical-align: top;\n",
       "    }\n",
       "\n",
       "    .dataframe thead th {\n",
       "        text-align: right;\n",
       "    }\n",
       "</style>\n",
       "<table border=\"1\" class=\"dataframe\">\n",
       "  <thead>\n",
       "    <tr style=\"text-align: right;\">\n",
       "      <th></th>\n",
       "      <th>NYC M.A. (C°)</th>\n",
       "      <th>Global M.A. (C°)</th>\n",
       "    </tr>\n",
       "    <tr>\n",
       "      <th>Year</th>\n",
       "      <th></th>\n",
       "      <th></th>\n",
       "    </tr>\n",
       "  </thead>\n",
       "  <tbody>\n",
       "    <tr>\n",
       "      <th>1913</th>\n",
       "      <td>10.76</td>\n",
       "      <td>8.30</td>\n",
       "    </tr>\n",
       "    <tr>\n",
       "      <th>1914</th>\n",
       "      <td>9.89</td>\n",
       "      <td>8.44</td>\n",
       "    </tr>\n",
       "    <tr>\n",
       "      <th>1915</th>\n",
       "      <td>9.88</td>\n",
       "      <td>8.49</td>\n",
       "    </tr>\n",
       "    <tr>\n",
       "      <th>1916</th>\n",
       "      <td>9.68</td>\n",
       "      <td>8.43</td>\n",
       "    </tr>\n",
       "    <tr>\n",
       "      <th>1917</th>\n",
       "      <td>9.39</td>\n",
       "      <td>8.35</td>\n",
       "    </tr>\n",
       "  </tbody>\n",
       "</table>\n",
       "</div>"
      ],
      "text/plain": [
       "      NYC M.A. (C°)  Global M.A. (C°)\n",
       "Year                                 \n",
       "1913          10.76              8.30\n",
       "1914           9.89              8.44\n",
       "1915           9.88              8.49\n",
       "1916           9.68              8.43\n",
       "1917           9.39              8.35"
      ]
     },
     "metadata": {},
     "output_type": "display_data"
    }
   ],
   "source": [
    "# Set 'Year' column as the index \n",
    "\n",
    "final_df = round_df.set_index('Year')\n",
    "\n",
    "# Download dataframe as a .csv file\n",
    "\n",
    "final_df.to_csv(\"../project_1/Output/FinalDataset.csv\", index=True)\n",
    "\n",
    "display(final_df.head())"
   ]
  },
  {
   "cell_type": "markdown",
   "id": "f3729108",
   "metadata": {},
   "source": [
    "# Calculate Descriptive Statistics"
   ]
  },
  {
   "cell_type": "markdown",
   "id": "52b3e669",
   "metadata": {},
   "source": [
    "## Mean"
   ]
  },
  {
   "cell_type": "code",
   "execution_count": 13,
   "id": "c1ab47ff",
   "metadata": {},
   "outputs": [
    {
     "name": "stdout",
     "output_type": "stream",
     "text": [
      "NYC M.A. (C°)       10.018515\n",
      "Global M.A. (C°)     8.729307\n",
      "dtype: float64\n"
     ]
    }
   ],
   "source": [
    "mean = final_df.mean()\n",
    "\n",
    "print(mean)"
   ]
  },
  {
   "cell_type": "markdown",
   "id": "7db737fb",
   "metadata": {},
   "source": [
    "## Median"
   ]
  },
  {
   "cell_type": "code",
   "execution_count": 14,
   "id": "985cd833",
   "metadata": {},
   "outputs": [
    {
     "name": "stdout",
     "output_type": "stream",
     "text": [
      "NYC M.A. (C°)       9.97\n",
      "Global M.A. (C°)    8.65\n",
      "dtype: float64\n"
     ]
    }
   ],
   "source": [
    "median = final_df.median()\n",
    "\n",
    "print(median)"
   ]
  },
  {
   "cell_type": "markdown",
   "id": "687b4905",
   "metadata": {},
   "source": [
    "## Mode"
   ]
  },
  {
   "cell_type": "code",
   "execution_count": 15,
   "id": "e43e71ae",
   "metadata": {},
   "outputs": [
    {
     "name": "stdout",
     "output_type": "stream",
     "text": [
      "NYC M.A. (C°)       9.85\n",
      "Global M.A. (C°)    8.65\n",
      "Name: Mode, dtype: float64\n"
     ]
    }
   ],
   "source": [
    "mode = final_df.mode()\n",
    "\n",
    "# Convert column names to index\n",
    "\n",
    "mode_2 = mode.transpose()\n",
    "\n",
    "# Convert '0' to a string & rename\n",
    "\n",
    "mode_3 = mode_2.rename(columns = {0:'Mode'}, inplace=True)\n",
    "\n",
    "mode_4 = pd.DataFrame(mode_3, columns=['Mode'])\n",
    "\n",
    "# Convert DataFrame to a float64\n",
    "\n",
    "mode_df = mode_2[\"Mode\"].astype(str).astype('float64')\n",
    "\n",
    "print(mode_df)"
   ]
  },
  {
   "cell_type": "markdown",
   "id": "5f948717",
   "metadata": {},
   "source": [
    "## Minimum"
   ]
  },
  {
   "cell_type": "code",
   "execution_count": 16,
   "id": "a2e7bd02",
   "metadata": {},
   "outputs": [
    {
     "name": "stdout",
     "output_type": "stream",
     "text": [
      "NYC M.A. (C°)       9.39\n",
      "Global M.A. (C°)    8.30\n",
      "dtype: float64\n"
     ]
    }
   ],
   "source": [
    "df_min = final_df.min()\n",
    "\n",
    "print(df_min)"
   ]
  },
  {
   "cell_type": "markdown",
   "id": "21f63a8d",
   "metadata": {},
   "source": [
    "## Maximum"
   ]
  },
  {
   "cell_type": "code",
   "execution_count": 17,
   "id": "6cd287b3",
   "metadata": {},
   "outputs": [
    {
     "name": "stdout",
     "output_type": "stream",
     "text": [
      "NYC M.A. (C°)       10.93\n",
      "Global M.A. (C°)     9.50\n",
      "dtype: float64\n"
     ]
    }
   ],
   "source": [
    "df_max = final_df.max()\n",
    "\n",
    "print(df_max)"
   ]
  },
  {
   "cell_type": "markdown",
   "id": "8e197c4b",
   "metadata": {},
   "source": [
    "## Range"
   ]
  },
  {
   "cell_type": "code",
   "execution_count": 18,
   "id": "9da4ffa8",
   "metadata": {},
   "outputs": [
    {
     "name": "stdout",
     "output_type": "stream",
     "text": [
      "NYC M.A. (C°)       1.54\n",
      "Global M.A. (C°)    1.20\n",
      "dtype: float64\n"
     ]
    }
   ],
   "source": [
    "df_range = df_max - df_min\n",
    "\n",
    "print(df_range)"
   ]
  },
  {
   "cell_type": "markdown",
   "id": "40b5c9ab",
   "metadata": {},
   "source": [
    "## Skewness"
   ]
  },
  {
   "cell_type": "code",
   "execution_count": 19,
   "id": "57602d74",
   "metadata": {},
   "outputs": [
    {
     "name": "stdout",
     "output_type": "stream",
     "text": [
      "NYC M.A. (C°)       0.547463\n",
      "Global M.A. (C°)    1.069131\n",
      "dtype: float64\n"
     ]
    }
   ],
   "source": [
    "skew = final_df.skew()\n",
    "\n",
    "print(skew)"
   ]
  },
  {
   "cell_type": "markdown",
   "id": "802e27f7",
   "metadata": {},
   "source": [
    "## Standard Deviation"
   ]
  },
  {
   "cell_type": "code",
   "execution_count": 20,
   "id": "3fae5047",
   "metadata": {},
   "outputs": [
    {
     "name": "stdout",
     "output_type": "stream",
     "text": [
      "NYC M.A. (C°)       0.329938\n",
      "Global M.A. (C°)    0.293381\n",
      "dtype: float64\n"
     ]
    }
   ],
   "source": [
    "stan_dev = final_df.std()\n",
    "\n",
    "print(stan_dev)"
   ]
  },
  {
   "cell_type": "markdown",
   "id": "ba433c9c",
   "metadata": {},
   "source": [
    "## Add to a DataFrame"
   ]
  },
  {
   "cell_type": "code",
   "execution_count": 21,
   "id": "b4cf5174",
   "metadata": {},
   "outputs": [],
   "source": [
    "stats = pd.DataFrame({'Mean': mean, \n",
    "                      'Median': median, \n",
    "                      'Mode': mode_df,\n",
    "                      'Min': df_min, \n",
    "                      'Max': df_max, \n",
    "                      'Range': df_range, \n",
    "                      'Skew': skew, \n",
    "                      'Standard Deviation': stan_dev})\n",
    "\n",
    "stats_df = stats.round({'Mean': 2, \n",
    "                        'Median': 2, \n",
    "                        'Mode': 2, \n",
    "                        'Min': 2, \n",
    "                        'Max': 2, \n",
    "                        'Range': 2, \n",
    "                        'Skew': 2, \n",
    "                        'Standard Deviation': 2})"
   ]
  },
  {
   "cell_type": "markdown",
   "id": "0a60db10",
   "metadata": {},
   "source": [
    "# Visualize The Data"
   ]
  },
  {
   "cell_type": "code",
   "execution_count": 22,
   "id": "fc267b5c",
   "metadata": {},
   "outputs": [
    {
     "data": {
      "application/pdf": "[encoded data removed]",
      "image/png": "[encoded data removed]",
      "text/plain": [
       "<Figure size 1296x720 with 1 Axes>"
      ]
     },
     "metadata": {
      "needs_background": "light"
     },
     "output_type": "display_data"
    }
   ],
   "source": [
    "# Build Line Chart\n",
    "\n",
    "\n",
    "## Plot the chart\n",
    "final_df.plot(linestyle='-', \n",
    "              color=['seagreen', 'purple'], \n",
    "              figsize=(18, 10),  \n",
    "              linewidth=2)\n",
    "\n",
    "## Add chart properties\n",
    "\n",
    "### Labels\n",
    "\n",
    "plt.title('Moving Average Temperature', fontsize=25)\n",
    "plt.xlabel('Year', fontsize=20)\n",
    "plt.ylabel('Temperature (C°)', fontsize=20)\n",
    "\n",
    "### Add a blurb describing the chart's purpose\n",
    "\n",
    "plt.text(1925, 7.8, \n",
    "         \"Note: This line chart represents the correlation between Global & New York City temperatures.\", \n",
    "         fontsize=15, \n",
    "         style='italic')\n",
    "plt.text(1930, 7.7, \n",
    "         \"Plot points represent the moving average of 15 years in a 100-year period\", \n",
    "         fontsize=15, \n",
    "         style='italic')\n",
    "\n",
    "### Grid\n",
    "\n",
    "plt.grid(linewidth=0.5, color='black')\n",
    "plt.xticks()\n",
    "plt.yticks()\n",
    "\n",
    "\n",
    "### Legend\n",
    "legend = plt.legend(title = \"Locations\", \n",
    "                    frameon=True, \n",
    "                    edgecolor='black', \n",
    "                    labels=['NYC', 'Global'])\n",
    "\n",
    "\n",
    "# Save Chart\n",
    "plt.savefig(\"../project_1/Output/TrendsPlot.png\", bbox_inches='tight')\n",
    "\n",
    "plt.show()"
   ]
  },
  {
   "cell_type": "markdown",
   "id": "dc75f9b7",
   "metadata": {},
   "source": [
    "# Observations"
   ]
  },
  {
   "cell_type": "markdown",
   "id": "7a3a3735",
   "metadata": {},
   "source": [
    "## Statistics"
   ]
  },
  {
   "cell_type": "code",
   "execution_count": 23,
   "id": "eb7365ae",
   "metadata": {},
   "outputs": [
    {
     "data": {
      "text/html": [
       "<div>\n",
       "<style scoped>\n",
       "    .dataframe tbody tr th:only-of-type {\n",
       "        vertical-align: middle;\n",
       "    }\n",
       "\n",
       "    .dataframe tbody tr th {\n",
       "        vertical-align: top;\n",
       "    }\n",
       "\n",
       "    .dataframe thead th {\n",
       "        text-align: right;\n",
       "    }\n",
       "</style>\n",
       "<table border=\"1\" class=\"dataframe\">\n",
       "  <thead>\n",
       "    <tr style=\"text-align: right;\">\n",
       "      <th></th>\n",
       "      <th>Mean</th>\n",
       "      <th>Median</th>\n",
       "      <th>Mode</th>\n",
       "      <th>Min</th>\n",
       "      <th>Max</th>\n",
       "      <th>Range</th>\n",
       "      <th>Skew</th>\n",
       "      <th>Standard Deviation</th>\n",
       "    </tr>\n",
       "  </thead>\n",
       "  <tbody>\n",
       "    <tr>\n",
       "      <th>NYC M.A. (C°)</th>\n",
       "      <td>10.02</td>\n",
       "      <td>9.97</td>\n",
       "      <td>9.85</td>\n",
       "      <td>9.39</td>\n",
       "      <td>10.93</td>\n",
       "      <td>1.54</td>\n",
       "      <td>0.55</td>\n",
       "      <td>0.33</td>\n",
       "    </tr>\n",
       "    <tr>\n",
       "      <th>Global M.A. (C°)</th>\n",
       "      <td>8.73</td>\n",
       "      <td>8.65</td>\n",
       "      <td>8.65</td>\n",
       "      <td>8.30</td>\n",
       "      <td>9.50</td>\n",
       "      <td>1.20</td>\n",
       "      <td>1.07</td>\n",
       "      <td>0.29</td>\n",
       "    </tr>\n",
       "  </tbody>\n",
       "</table>\n",
       "</div>"
      ],
      "text/plain": [
       "                   Mean  Median  Mode   Min    Max  Range  Skew  \\\n",
       "NYC M.A. (C°)     10.02    9.97  9.85  9.39  10.93   1.54  0.55   \n",
       "Global M.A. (C°)   8.73    8.65  8.65  8.30   9.50   1.20  1.07   \n",
       "\n",
       "                  Standard Deviation  \n",
       "NYC M.A. (C°)                   0.33  \n",
       "Global M.A. (C°)                0.29  "
      ]
     },
     "metadata": {},
     "output_type": "display_data"
    }
   ],
   "source": [
    "display(stats_df)"
   ]
  },
  {
   "cell_type": "markdown",
   "id": "2d7da3b1",
   "metadata": {},
   "source": [
    "## Is your city hotter or cooler on average compared to the global average? Has the difference been consistent over time?"
   ]
  },
  {
   "cell_type": "markdown",
   "id": "4cd64e31",
   "metadata": {},
   "source": [
    "#### - New York City, on average, is consistently hotter than the global temperature."
   ]
  },
  {
   "cell_type": "markdown",
   "id": "c9f8dca4",
   "metadata": {},
   "source": [
    "## How do the changes in your city’s temperatures over time compare to the changes in the global average?"
   ]
  },
  {
   "cell_type": "markdown",
   "id": "f8a2e3a7",
   "metadata": {},
   "source": [
    "#### - New York City's average temperatures fluctuate from hotter temperatures (10.7° C), to cooler ones (9.4.6° C). Then the temperatures gradually increase to 10.9 - 11° C."
   ]
  },
  {
   "cell_type": "markdown",
   "id": "0fb46726",
   "metadata": {},
   "source": [
    "#### - The Global average temperatures exhibit the same behaviors observed in New York City's, except, they fluctuate in cooler temperatures (7.5 - 8.6° C). Then they gradually increase to 9.5° C."
   ]
  },
  {
   "cell_type": "markdown",
   "id": "7d7d94ea",
   "metadata": {},
   "source": [
    "## What does the overall trend look like? Is the world getting hotter or cooler? Has the trend been consistent over the last few hundred years?"
   ]
  },
  {
   "cell_type": "markdown",
   "id": "a9ddda17",
   "metadata": {},
   "source": [
    "#### - The world is getting hotter over the progressing years. This has been a consistent, gradual increase."
   ]
  },
  {
   "cell_type": "markdown",
   "id": "e1097dd1",
   "metadata": {},
   "source": [
    "# Citations"
   ]
  },
  {
   "cell_type": "markdown",
   "id": "1aae25dc",
   "metadata": {},
   "source": [
    "## To Review the Data"
   ]
  },
  {
   "cell_type": "markdown",
   "id": "40908d45",
   "metadata": {},
   "source": [
    "#### Clean-Up: [Pandas Documentation](https://pandas.pydata.org/docs/reference/api/pandas.DataFrame.html)"
   ]
  },
  {
   "cell_type": "markdown",
   "id": "75fb1d17",
   "metadata": {},
   "source": [
    "#### Moving Average: [Rolling Method](https://pandas.pydata.org/docs/reference/api/pandas.DataFrame.rolling.html)"
   ]
  },
  {
   "cell_type": "markdown",
   "id": "e34ae9c9",
   "metadata": {},
   "source": [
    "## To Plot the Chart"
   ]
  },
  {
   "cell_type": "markdown",
   "id": "b30c7b38",
   "metadata": {},
   "source": [
    "#### Line Graph: [Python Graph Gallery](https://www.python-graph-gallery.com/121-line-chart-customization)"
   ]
  },
  {
   "cell_type": "markdown",
   "id": "4f633a48",
   "metadata": {},
   "source": [
    "## To Export to PDF"
   ]
  },
  {
   "cell_type": "markdown",
   "id": "8df89139",
   "metadata": {},
   "source": [
    "#### How-To: [Open Library](https://ecampusontario.pressbooks.pub/rwsnotes/back-matter/getting-started-with-jupyter-notebooks/)"
   ]
  },
  {
   "cell_type": "markdown",
   "id": "fb05bb88",
   "metadata": {},
   "source": [
    "#### Download Link: [MacTex](http://tug.org/mactex/mactex-download.html)"
   ]
  },
  {
   "cell_type": "markdown",
   "id": "99393dd9",
   "metadata": {},
   "source": [
    "#### To Embed Hyperlinks: [StackOverflow](https://stackoverflow.com/questions/25698448/how-to-embed-html-into-ipython-output)"
   ]
  }
 ],
 "metadata": {
  "kernelspec": {
   "display_name": "Python 3",
   "language": "python",
   "name": "python3"
  },
  "language_info": {
   "codemirror_mode": {
    "name": "ipython",
    "version": 3
   },
   "file_extension": ".py",
   "mimetype": "text/x-python",
   "name": "python",
   "nbconvert_exporter": "python",
   "pygments_lexer": "ipython3",
   "version": "3.8.8"
  }
 },
 "nbformat": 4,
 "nbformat_minor": 5
}
