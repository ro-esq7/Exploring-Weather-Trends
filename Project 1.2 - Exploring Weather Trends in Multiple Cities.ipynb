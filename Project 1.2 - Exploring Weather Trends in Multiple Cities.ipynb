{
 "cells": [
  {
   "cell_type": "markdown",
   "id": "b4b2fa94",
   "metadata": {},
   "source": [
    "# Import Dependencies"
   ]
  },
  {
   "cell_type": "code",
   "execution_count": 1,
   "id": "c7101f61",
   "metadata": {},
   "outputs": [],
   "source": [
    "# For clean-up & plot\n",
    "\n",
    "import pandas as pd\n",
    "import numpy as np\n",
    "import matplotlib.pyplot as plt\n",
    "\n",
    "%matplotlib inline\n",
    "\n",
    "# For tables & chart to show in PDF download\n",
    "\n",
    "from IPython.display import set_matplotlib_formats\n",
    "set_matplotlib_formats('png', 'pdf')\n",
    "\n",
    "# For hyperlinks to show in PDF download\n",
    "\n",
    "from IPython.core.display import HTML"
   ]
  },
  {
   "cell_type": "markdown",
   "id": "f6e0e1cf",
   "metadata": {},
   "source": [
    "# Load Data"
   ]
  },
  {
   "cell_type": "code",
   "execution_count": 2,
   "id": "3570c21c",
   "metadata": {},
   "outputs": [],
   "source": [
    "nyc_data = \"RawData/nyc_data.csv\"\n",
    "bos_data = \"RawData/bos_data.csv\"\n",
    "mia_data = \"RawData/mia_data.csv\"\n",
    "glo_data = \"RawData/global_data.csv\"\n",
    "\n",
    "nyc = pd.read_csv(nyc_data)\n",
    "bos = pd.read_csv(bos_data)\n",
    "mia = pd.read_csv(mia_data)\n",
    "glo = pd.read_csv(glo_data)"
   ]
  },
  {
   "cell_type": "markdown",
   "id": "d536c97e",
   "metadata": {},
   "source": [
    "# Clean Data"
   ]
  },
  {
   "cell_type": "markdown",
   "id": "1ecb510c",
   "metadata": {},
   "source": [
    "## Selected Cities' Data"
   ]
  },
  {
   "cell_type": "markdown",
   "id": "27acdeea",
   "metadata": {},
   "source": [
    "### NYC Data"
   ]
  },
  {
   "cell_type": "code",
   "execution_count": 3,
   "id": "fff019e7",
   "metadata": {
    "scrolled": true
   },
   "outputs": [
    {
     "data": {
      "text/html": [
       "<div>\n",
       "<style scoped>\n",
       "    .dataframe tbody tr th:only-of-type {\n",
       "        vertical-align: middle;\n",
       "    }\n",
       "\n",
       "    .dataframe tbody tr th {\n",
       "        vertical-align: top;\n",
       "    }\n",
       "\n",
       "    .dataframe thead th {\n",
       "        text-align: right;\n",
       "    }\n",
       "</style>\n",
       "<table border=\"1\" class=\"dataframe\">\n",
       "  <thead>\n",
       "    <tr style=\"text-align: right;\">\n",
       "      <th></th>\n",
       "      <th>year</th>\n",
       "      <th>city</th>\n",
       "      <th>country</th>\n",
       "      <th>avg_temp</th>\n",
       "    </tr>\n",
       "  </thead>\n",
       "  <tbody>\n",
       "    <tr>\n",
       "      <th>0</th>\n",
       "      <td>1743</td>\n",
       "      <td>New York</td>\n",
       "      <td>United States</td>\n",
       "      <td>3.26</td>\n",
       "    </tr>\n",
       "    <tr>\n",
       "      <th>1</th>\n",
       "      <td>1744</td>\n",
       "      <td>New York</td>\n",
       "      <td>United States</td>\n",
       "      <td>11.66</td>\n",
       "    </tr>\n",
       "    <tr>\n",
       "      <th>2</th>\n",
       "      <td>1745</td>\n",
       "      <td>New York</td>\n",
       "      <td>United States</td>\n",
       "      <td>1.13</td>\n",
       "    </tr>\n",
       "    <tr>\n",
       "      <th>3</th>\n",
       "      <td>1746</td>\n",
       "      <td>New York</td>\n",
       "      <td>United States</td>\n",
       "      <td>NaN</td>\n",
       "    </tr>\n",
       "    <tr>\n",
       "      <th>4</th>\n",
       "      <td>1747</td>\n",
       "      <td>New York</td>\n",
       "      <td>United States</td>\n",
       "      <td>NaN</td>\n",
       "    </tr>\n",
       "  </tbody>\n",
       "</table>\n",
       "</div>"
      ],
      "text/plain": [
       "   year      city        country  avg_temp\n",
       "0  1743  New York  United States      3.26\n",
       "1  1744  New York  United States     11.66\n",
       "2  1745  New York  United States      1.13\n",
       "3  1746  New York  United States       NaN\n",
       "4  1747  New York  United States       NaN"
      ]
     },
     "metadata": {},
     "output_type": "display_data"
    }
   ],
   "source": [
    "display(nyc.head())"
   ]
  },
  {
   "cell_type": "code",
   "execution_count": 4,
   "id": "6b60d411",
   "metadata": {},
   "outputs": [
    {
     "data": {
      "text/html": [
       "<div>\n",
       "<style scoped>\n",
       "    .dataframe tbody tr th:only-of-type {\n",
       "        vertical-align: middle;\n",
       "    }\n",
       "\n",
       "    .dataframe tbody tr th {\n",
       "        vertical-align: top;\n",
       "    }\n",
       "\n",
       "    .dataframe thead th {\n",
       "        text-align: right;\n",
       "    }\n",
       "</style>\n",
       "<table border=\"1\" class=\"dataframe\">\n",
       "  <thead>\n",
       "    <tr style=\"text-align: right;\">\n",
       "      <th></th>\n",
       "      <th>Year</th>\n",
       "      <th>City</th>\n",
       "      <th>Country</th>\n",
       "      <th>NYC Temp. (C°)</th>\n",
       "    </tr>\n",
       "  </thead>\n",
       "  <tbody>\n",
       "    <tr>\n",
       "      <th>0</th>\n",
       "      <td>1743</td>\n",
       "      <td>New York</td>\n",
       "      <td>United States</td>\n",
       "      <td>3.26</td>\n",
       "    </tr>\n",
       "    <tr>\n",
       "      <th>1</th>\n",
       "      <td>1744</td>\n",
       "      <td>New York</td>\n",
       "      <td>United States</td>\n",
       "      <td>11.66</td>\n",
       "    </tr>\n",
       "    <tr>\n",
       "      <th>2</th>\n",
       "      <td>1745</td>\n",
       "      <td>New York</td>\n",
       "      <td>United States</td>\n",
       "      <td>1.13</td>\n",
       "    </tr>\n",
       "    <tr>\n",
       "      <th>3</th>\n",
       "      <td>1750</td>\n",
       "      <td>New York</td>\n",
       "      <td>United States</td>\n",
       "      <td>10.07</td>\n",
       "    </tr>\n",
       "    <tr>\n",
       "      <th>4</th>\n",
       "      <td>1751</td>\n",
       "      <td>New York</td>\n",
       "      <td>United States</td>\n",
       "      <td>10.79</td>\n",
       "    </tr>\n",
       "  </tbody>\n",
       "</table>\n",
       "</div>"
      ],
      "text/plain": [
       "   Year      City        Country  NYC Temp. (C°)\n",
       "0  1743  New York  United States            3.26\n",
       "1  1744  New York  United States           11.66\n",
       "2  1745  New York  United States            1.13\n",
       "3  1750  New York  United States           10.07\n",
       "4  1751  New York  United States           10.79"
      ]
     },
     "metadata": {},
     "output_type": "display_data"
    }
   ],
   "source": [
    "# Drop Null Values\n",
    "\n",
    "nyc.dropna(inplace=True)\n",
    "\n",
    "\n",
    "# Update Column Names\n",
    "\n",
    "nyc_update = nyc.rename(columns={\"year\": 'Year', \n",
    "                                 \"city\": 'City', \n",
    "                                 \"country\": 'Country', \n",
    "                                 \"avg_temp\": 'NYC Temp. (C°)'})\n",
    "\n",
    "# Reset Index\n",
    "\n",
    "nyc_df = nyc_update.reset_index(drop=True)\n",
    "\n",
    "display(nyc_df.head())"
   ]
  },
  {
   "cell_type": "markdown",
   "id": "3bf0f58c",
   "metadata": {},
   "source": [
    "### Boston Data"
   ]
  },
  {
   "cell_type": "code",
   "execution_count": 5,
   "id": "e2acce1f",
   "metadata": {},
   "outputs": [
    {
     "data": {
      "text/html": [
       "<div>\n",
       "<style scoped>\n",
       "    .dataframe tbody tr th:only-of-type {\n",
       "        vertical-align: middle;\n",
       "    }\n",
       "\n",
       "    .dataframe tbody tr th {\n",
       "        vertical-align: top;\n",
       "    }\n",
       "\n",
       "    .dataframe thead th {\n",
       "        text-align: right;\n",
       "    }\n",
       "</style>\n",
       "<table border=\"1\" class=\"dataframe\">\n",
       "  <thead>\n",
       "    <tr style=\"text-align: right;\">\n",
       "      <th></th>\n",
       "      <th>year</th>\n",
       "      <th>city</th>\n",
       "      <th>country</th>\n",
       "      <th>avg_temp</th>\n",
       "    </tr>\n",
       "  </thead>\n",
       "  <tbody>\n",
       "    <tr>\n",
       "      <th>0</th>\n",
       "      <td>1743</td>\n",
       "      <td>Boston</td>\n",
       "      <td>United States</td>\n",
       "      <td>1.19</td>\n",
       "    </tr>\n",
       "    <tr>\n",
       "      <th>1</th>\n",
       "      <td>1744</td>\n",
       "      <td>Boston</td>\n",
       "      <td>United States</td>\n",
       "      <td>9.63</td>\n",
       "    </tr>\n",
       "    <tr>\n",
       "      <th>2</th>\n",
       "      <td>1745</td>\n",
       "      <td>Boston</td>\n",
       "      <td>United States</td>\n",
       "      <td>-1.37</td>\n",
       "    </tr>\n",
       "    <tr>\n",
       "      <th>3</th>\n",
       "      <td>1746</td>\n",
       "      <td>Boston</td>\n",
       "      <td>United States</td>\n",
       "      <td>NaN</td>\n",
       "    </tr>\n",
       "    <tr>\n",
       "      <th>4</th>\n",
       "      <td>1747</td>\n",
       "      <td>Boston</td>\n",
       "      <td>United States</td>\n",
       "      <td>NaN</td>\n",
       "    </tr>\n",
       "  </tbody>\n",
       "</table>\n",
       "</div>"
      ],
      "text/plain": [
       "   year    city        country  avg_temp\n",
       "0  1743  Boston  United States      1.19\n",
       "1  1744  Boston  United States      9.63\n",
       "2  1745  Boston  United States     -1.37\n",
       "3  1746  Boston  United States       NaN\n",
       "4  1747  Boston  United States       NaN"
      ]
     },
     "metadata": {},
     "output_type": "display_data"
    }
   ],
   "source": [
    "display(bos.head())"
   ]
  },
  {
   "cell_type": "code",
   "execution_count": 6,
   "id": "80fc21e7",
   "metadata": {
    "scrolled": true
   },
   "outputs": [
    {
     "data": {
      "text/html": [
       "<div>\n",
       "<style scoped>\n",
       "    .dataframe tbody tr th:only-of-type {\n",
       "        vertical-align: middle;\n",
       "    }\n",
       "\n",
       "    .dataframe tbody tr th {\n",
       "        vertical-align: top;\n",
       "    }\n",
       "\n",
       "    .dataframe thead th {\n",
       "        text-align: right;\n",
       "    }\n",
       "</style>\n",
       "<table border=\"1\" class=\"dataframe\">\n",
       "  <thead>\n",
       "    <tr style=\"text-align: right;\">\n",
       "      <th></th>\n",
       "      <th>Year</th>\n",
       "      <th>City</th>\n",
       "      <th>Country</th>\n",
       "      <th>BOS Temp. (C°)</th>\n",
       "    </tr>\n",
       "  </thead>\n",
       "  <tbody>\n",
       "    <tr>\n",
       "      <th>0</th>\n",
       "      <td>1743</td>\n",
       "      <td>Boston</td>\n",
       "      <td>United States</td>\n",
       "      <td>1.19</td>\n",
       "    </tr>\n",
       "    <tr>\n",
       "      <th>1</th>\n",
       "      <td>1744</td>\n",
       "      <td>Boston</td>\n",
       "      <td>United States</td>\n",
       "      <td>9.63</td>\n",
       "    </tr>\n",
       "    <tr>\n",
       "      <th>2</th>\n",
       "      <td>1745</td>\n",
       "      <td>Boston</td>\n",
       "      <td>United States</td>\n",
       "      <td>-1.37</td>\n",
       "    </tr>\n",
       "    <tr>\n",
       "      <th>3</th>\n",
       "      <td>1750</td>\n",
       "      <td>Boston</td>\n",
       "      <td>United States</td>\n",
       "      <td>7.88</td>\n",
       "    </tr>\n",
       "    <tr>\n",
       "      <th>4</th>\n",
       "      <td>1751</td>\n",
       "      <td>Boston</td>\n",
       "      <td>United States</td>\n",
       "      <td>8.60</td>\n",
       "    </tr>\n",
       "  </tbody>\n",
       "</table>\n",
       "</div>"
      ],
      "text/plain": [
       "   Year    City        Country  BOS Temp. (C°)\n",
       "0  1743  Boston  United States            1.19\n",
       "1  1744  Boston  United States            9.63\n",
       "2  1745  Boston  United States           -1.37\n",
       "3  1750  Boston  United States            7.88\n",
       "4  1751  Boston  United States            8.60"
      ]
     },
     "metadata": {},
     "output_type": "display_data"
    }
   ],
   "source": [
    "# Drop Null Values\n",
    "\n",
    "bos.dropna(inplace=True)\n",
    "\n",
    "\n",
    "# Update Column Names\n",
    "\n",
    "bos_update = bos.rename(columns={\"year\": 'Year', \n",
    "                                 \"city\": 'City', \n",
    "                                 \"country\": 'Country', \n",
    "                                 \"avg_temp\": 'BOS Temp. (C°)'})\n",
    "\n",
    "# Reset Index\n",
    "\n",
    "bos_df = bos_update.reset_index(drop=True)\n",
    "\n",
    "display(bos_df.head())"
   ]
  },
  {
   "cell_type": "markdown",
   "id": "892619e5",
   "metadata": {},
   "source": [
    "### Miami Data"
   ]
  },
  {
   "cell_type": "code",
   "execution_count": 7,
   "id": "1799d335",
   "metadata": {
    "scrolled": true
   },
   "outputs": [
    {
     "data": {
      "text/html": [
       "<div>\n",
       "<style scoped>\n",
       "    .dataframe tbody tr th:only-of-type {\n",
       "        vertical-align: middle;\n",
       "    }\n",
       "\n",
       "    .dataframe tbody tr th {\n",
       "        vertical-align: top;\n",
       "    }\n",
       "\n",
       "    .dataframe thead th {\n",
       "        text-align: right;\n",
       "    }\n",
       "</style>\n",
       "<table border=\"1\" class=\"dataframe\">\n",
       "  <thead>\n",
       "    <tr style=\"text-align: right;\">\n",
       "      <th></th>\n",
       "      <th>year</th>\n",
       "      <th>city</th>\n",
       "      <th>country</th>\n",
       "      <th>avg_temp</th>\n",
       "    </tr>\n",
       "  </thead>\n",
       "  <tbody>\n",
       "    <tr>\n",
       "      <th>0</th>\n",
       "      <td>1758</td>\n",
       "      <td>Miami</td>\n",
       "      <td>United States</td>\n",
       "      <td>23.05</td>\n",
       "    </tr>\n",
       "    <tr>\n",
       "      <th>1</th>\n",
       "      <td>1759</td>\n",
       "      <td>Miami</td>\n",
       "      <td>United States</td>\n",
       "      <td>22.56</td>\n",
       "    </tr>\n",
       "    <tr>\n",
       "      <th>2</th>\n",
       "      <td>1760</td>\n",
       "      <td>Miami</td>\n",
       "      <td>United States</td>\n",
       "      <td>15.14</td>\n",
       "    </tr>\n",
       "    <tr>\n",
       "      <th>3</th>\n",
       "      <td>1761</td>\n",
       "      <td>Miami</td>\n",
       "      <td>United States</td>\n",
       "      <td>NaN</td>\n",
       "    </tr>\n",
       "    <tr>\n",
       "      <th>4</th>\n",
       "      <td>1762</td>\n",
       "      <td>Miami</td>\n",
       "      <td>United States</td>\n",
       "      <td>NaN</td>\n",
       "    </tr>\n",
       "  </tbody>\n",
       "</table>\n",
       "</div>"
      ],
      "text/plain": [
       "   year   city        country  avg_temp\n",
       "0  1758  Miami  United States     23.05\n",
       "1  1759  Miami  United States     22.56\n",
       "2  1760  Miami  United States     15.14\n",
       "3  1761  Miami  United States       NaN\n",
       "4  1762  Miami  United States       NaN"
      ]
     },
     "metadata": {},
     "output_type": "display_data"
    }
   ],
   "source": [
    "display(mia.head())"
   ]
  },
  {
   "cell_type": "code",
   "execution_count": 8,
   "id": "00ca4f69",
   "metadata": {},
   "outputs": [
    {
     "data": {
      "text/html": [
       "<div>\n",
       "<style scoped>\n",
       "    .dataframe tbody tr th:only-of-type {\n",
       "        vertical-align: middle;\n",
       "    }\n",
       "\n",
       "    .dataframe tbody tr th {\n",
       "        vertical-align: top;\n",
       "    }\n",
       "\n",
       "    .dataframe thead th {\n",
       "        text-align: right;\n",
       "    }\n",
       "</style>\n",
       "<table border=\"1\" class=\"dataframe\">\n",
       "  <thead>\n",
       "    <tr style=\"text-align: right;\">\n",
       "      <th></th>\n",
       "      <th>Year</th>\n",
       "      <th>City</th>\n",
       "      <th>Country</th>\n",
       "      <th>MIA Temp. (C°)</th>\n",
       "    </tr>\n",
       "  </thead>\n",
       "  <tbody>\n",
       "    <tr>\n",
       "      <th>0</th>\n",
       "      <td>1758</td>\n",
       "      <td>Miami</td>\n",
       "      <td>United States</td>\n",
       "      <td>23.05</td>\n",
       "    </tr>\n",
       "    <tr>\n",
       "      <th>1</th>\n",
       "      <td>1759</td>\n",
       "      <td>Miami</td>\n",
       "      <td>United States</td>\n",
       "      <td>22.56</td>\n",
       "    </tr>\n",
       "    <tr>\n",
       "      <th>2</th>\n",
       "      <td>1760</td>\n",
       "      <td>Miami</td>\n",
       "      <td>United States</td>\n",
       "      <td>15.14</td>\n",
       "    </tr>\n",
       "    <tr>\n",
       "      <th>3</th>\n",
       "      <td>1768</td>\n",
       "      <td>Miami</td>\n",
       "      <td>United States</td>\n",
       "      <td>21.77</td>\n",
       "    </tr>\n",
       "    <tr>\n",
       "      <th>4</th>\n",
       "      <td>1769</td>\n",
       "      <td>Miami</td>\n",
       "      <td>United States</td>\n",
       "      <td>22.57</td>\n",
       "    </tr>\n",
       "  </tbody>\n",
       "</table>\n",
       "</div>"
      ],
      "text/plain": [
       "   Year   City        Country  MIA Temp. (C°)\n",
       "0  1758  Miami  United States           23.05\n",
       "1  1759  Miami  United States           22.56\n",
       "2  1760  Miami  United States           15.14\n",
       "3  1768  Miami  United States           21.77\n",
       "4  1769  Miami  United States           22.57"
      ]
     },
     "metadata": {},
     "output_type": "display_data"
    }
   ],
   "source": [
    "# Drop Null Values\n",
    "\n",
    "mia.dropna(inplace=True)\n",
    "\n",
    "\n",
    "# Update Column Names\n",
    "\n",
    "mia_update = mia.rename(columns={\"year\": 'Year', \n",
    "                                 \"city\": 'City', \n",
    "                                 \"country\": 'Country', \n",
    "                                 \"avg_temp\": 'MIA Temp. (C°)'})\n",
    "\n",
    "# Reset Index\n",
    "\n",
    "mia_df = mia_update.reset_index(drop=True)\n",
    "\n",
    "display(mia_df.head())"
   ]
  },
  {
   "cell_type": "markdown",
   "id": "5ffe98f8",
   "metadata": {},
   "source": [
    "## Global Data"
   ]
  },
  {
   "cell_type": "code",
   "execution_count": 9,
   "id": "b55d55bb",
   "metadata": {},
   "outputs": [
    {
     "data": {
      "text/html": [
       "<div>\n",
       "<style scoped>\n",
       "    .dataframe tbody tr th:only-of-type {\n",
       "        vertical-align: middle;\n",
       "    }\n",
       "\n",
       "    .dataframe tbody tr th {\n",
       "        vertical-align: top;\n",
       "    }\n",
       "\n",
       "    .dataframe thead th {\n",
       "        text-align: right;\n",
       "    }\n",
       "</style>\n",
       "<table border=\"1\" class=\"dataframe\">\n",
       "  <thead>\n",
       "    <tr style=\"text-align: right;\">\n",
       "      <th></th>\n",
       "      <th>year</th>\n",
       "      <th>avg_temp</th>\n",
       "    </tr>\n",
       "  </thead>\n",
       "  <tbody>\n",
       "    <tr>\n",
       "      <th>0</th>\n",
       "      <td>1750</td>\n",
       "      <td>8.72</td>\n",
       "    </tr>\n",
       "    <tr>\n",
       "      <th>1</th>\n",
       "      <td>1751</td>\n",
       "      <td>7.98</td>\n",
       "    </tr>\n",
       "    <tr>\n",
       "      <th>2</th>\n",
       "      <td>1752</td>\n",
       "      <td>5.78</td>\n",
       "    </tr>\n",
       "    <tr>\n",
       "      <th>3</th>\n",
       "      <td>1753</td>\n",
       "      <td>8.39</td>\n",
       "    </tr>\n",
       "    <tr>\n",
       "      <th>4</th>\n",
       "      <td>1754</td>\n",
       "      <td>8.47</td>\n",
       "    </tr>\n",
       "  </tbody>\n",
       "</table>\n",
       "</div>"
      ],
      "text/plain": [
       "   year  avg_temp\n",
       "0  1750      8.72\n",
       "1  1751      7.98\n",
       "2  1752      5.78\n",
       "3  1753      8.39\n",
       "4  1754      8.47"
      ]
     },
     "metadata": {},
     "output_type": "display_data"
    }
   ],
   "source": [
    "display(glo.head())"
   ]
  },
  {
   "cell_type": "code",
   "execution_count": 10,
   "id": "306becfa",
   "metadata": {},
   "outputs": [
    {
     "name": "stdout",
     "output_type": "stream",
     "text": [
      "<class 'pandas.core.frame.DataFrame'>\n",
      "RangeIndex: 266 entries, 0 to 265\n",
      "Data columns (total 2 columns):\n",
      " #   Column    Non-Null Count  Dtype  \n",
      "---  ------    --------------  -----  \n",
      " 0   year      266 non-null    int64  \n",
      " 1   avg_temp  266 non-null    float64\n",
      "dtypes: float64(1), int64(1)\n",
      "memory usage: 4.3 KB\n"
     ]
    }
   ],
   "source": [
    "# Check for null values\n",
    "\n",
    "glo.info()"
   ]
  },
  {
   "cell_type": "code",
   "execution_count": 11,
   "id": "1abd5726",
   "metadata": {},
   "outputs": [
    {
     "data": {
      "text/html": [
       "<div>\n",
       "<style scoped>\n",
       "    .dataframe tbody tr th:only-of-type {\n",
       "        vertical-align: middle;\n",
       "    }\n",
       "\n",
       "    .dataframe tbody tr th {\n",
       "        vertical-align: top;\n",
       "    }\n",
       "\n",
       "    .dataframe thead th {\n",
       "        text-align: right;\n",
       "    }\n",
       "</style>\n",
       "<table border=\"1\" class=\"dataframe\">\n",
       "  <thead>\n",
       "    <tr style=\"text-align: right;\">\n",
       "      <th></th>\n",
       "      <th>Year</th>\n",
       "      <th>Global Temp. (C°)</th>\n",
       "    </tr>\n",
       "  </thead>\n",
       "  <tbody>\n",
       "    <tr>\n",
       "      <th>0</th>\n",
       "      <td>1750</td>\n",
       "      <td>8.72</td>\n",
       "    </tr>\n",
       "    <tr>\n",
       "      <th>1</th>\n",
       "      <td>1751</td>\n",
       "      <td>7.98</td>\n",
       "    </tr>\n",
       "    <tr>\n",
       "      <th>2</th>\n",
       "      <td>1752</td>\n",
       "      <td>5.78</td>\n",
       "    </tr>\n",
       "    <tr>\n",
       "      <th>3</th>\n",
       "      <td>1753</td>\n",
       "      <td>8.39</td>\n",
       "    </tr>\n",
       "    <tr>\n",
       "      <th>4</th>\n",
       "      <td>1754</td>\n",
       "      <td>8.47</td>\n",
       "    </tr>\n",
       "  </tbody>\n",
       "</table>\n",
       "</div>"
      ],
      "text/plain": [
       "   Year  Global Temp. (C°)\n",
       "0  1750               8.72\n",
       "1  1751               7.98\n",
       "2  1752               5.78\n",
       "3  1753               8.39\n",
       "4  1754               8.47"
      ]
     },
     "metadata": {},
     "output_type": "display_data"
    }
   ],
   "source": [
    "# Update Column Names\n",
    "\n",
    "glo_df = glo.rename(columns={\"year\": 'Year', \n",
    "                             \"avg_temp\": 'Global Temp. (C°)'})\n",
    "\n",
    "display(glo_df.head())"
   ]
  },
  {
   "cell_type": "markdown",
   "id": "47560322",
   "metadata": {},
   "source": [
    "## Merge ALL Tables"
   ]
  },
  {
   "cell_type": "code",
   "execution_count": 12,
   "id": "3709d4d5",
   "metadata": {},
   "outputs": [
    {
     "data": {
      "text/plain": [
       "Index(['Year', 'City_x', 'Country_x', 'NYC Temp. (C°)', 'City_y', 'Country_y',\n",
       "       'BOS Temp. (C°)', 'City', 'Country', 'MIA Temp. (C°)',\n",
       "       'Global Temp. (C°)'],\n",
       "      dtype='object')"
      ]
     },
     "execution_count": 12,
     "metadata": {},
     "output_type": "execute_result"
    }
   ],
   "source": [
    "# Merge\n",
    "\n",
    "merge1 = pd.merge(nyc_df, bos_df, on=\"Year\", how=\"left\")\n",
    "merge2 = pd.merge(merge1, mia_df, on=\"Year\", how=\"left\")\n",
    "final_merge = pd.merge(merge2, glo_df, on=\"Year\", how=\"left\")\n",
    "\n",
    "# Review column names to drop\n",
    "\n",
    "final_merge.columns"
   ]
  },
  {
   "cell_type": "code",
   "execution_count": 13,
   "id": "aeea98a9",
   "metadata": {},
   "outputs": [
    {
     "data": {
      "text/html": [
       "<div>\n",
       "<style scoped>\n",
       "    .dataframe tbody tr th:only-of-type {\n",
       "        vertical-align: middle;\n",
       "    }\n",
       "\n",
       "    .dataframe tbody tr th {\n",
       "        vertical-align: top;\n",
       "    }\n",
       "\n",
       "    .dataframe thead th {\n",
       "        text-align: right;\n",
       "    }\n",
       "</style>\n",
       "<table border=\"1\" class=\"dataframe\">\n",
       "  <thead>\n",
       "    <tr style=\"text-align: right;\">\n",
       "      <th></th>\n",
       "      <th>Year</th>\n",
       "      <th>NYC Temp. (C°)</th>\n",
       "      <th>BOS Temp. (C°)</th>\n",
       "      <th>MIA Temp. (C°)</th>\n",
       "      <th>Global Temp. (C°)</th>\n",
       "    </tr>\n",
       "  </thead>\n",
       "  <tbody>\n",
       "    <tr>\n",
       "      <th>143</th>\n",
       "      <td>1913</td>\n",
       "      <td>10.76</td>\n",
       "      <td>8.58</td>\n",
       "      <td>23.29</td>\n",
       "      <td>8.30</td>\n",
       "    </tr>\n",
       "    <tr>\n",
       "      <th>144</th>\n",
       "      <td>1914</td>\n",
       "      <td>9.02</td>\n",
       "      <td>6.89</td>\n",
       "      <td>22.80</td>\n",
       "      <td>8.59</td>\n",
       "    </tr>\n",
       "    <tr>\n",
       "      <th>145</th>\n",
       "      <td>1915</td>\n",
       "      <td>9.85</td>\n",
       "      <td>7.98</td>\n",
       "      <td>22.66</td>\n",
       "      <td>8.59</td>\n",
       "    </tr>\n",
       "    <tr>\n",
       "      <th>146</th>\n",
       "      <td>1916</td>\n",
       "      <td>9.10</td>\n",
       "      <td>7.05</td>\n",
       "      <td>23.02</td>\n",
       "      <td>8.23</td>\n",
       "    </tr>\n",
       "    <tr>\n",
       "      <th>147</th>\n",
       "      <td>1917</td>\n",
       "      <td>8.24</td>\n",
       "      <td>6.04</td>\n",
       "      <td>22.59</td>\n",
       "      <td>8.02</td>\n",
       "    </tr>\n",
       "  </tbody>\n",
       "</table>\n",
       "</div>"
      ],
      "text/plain": [
       "     Year  NYC Temp. (C°)  BOS Temp. (C°)  MIA Temp. (C°)  Global Temp. (C°)\n",
       "143  1913           10.76            8.58           23.29               8.30\n",
       "144  1914            9.02            6.89           22.80               8.59\n",
       "145  1915            9.85            7.98           22.66               8.59\n",
       "146  1916            9.10            7.05           23.02               8.23\n",
       "147  1917            8.24            6.04           22.59               8.02"
      ]
     },
     "metadata": {},
     "output_type": "display_data"
    }
   ],
   "source": [
    "# Drop Irrelevant Columns\n",
    "\n",
    "data_df = final_merge.drop(columns=['City_x', 'Country_x', 'City_y', 'Country_y', 'City', 'Country'])\n",
    "\n",
    "\n",
    "# Drop Null Values\n",
    "\n",
    "data_df.dropna(inplace=True)\n",
    "\n",
    "\n",
    "# Reset Index \n",
    "\n",
    "cities = data_df.reset_index(drop=True)\n",
    "\n",
    "# Drop rows to only display 1913 - 2013 (100-year period)\n",
    "\n",
    "cities_df = cities.drop(cities.index[range(143)])\n",
    "\n",
    "display(cities_df.head())"
   ]
  },
  {
   "cell_type": "code",
   "execution_count": 14,
   "id": "a0435834",
   "metadata": {},
   "outputs": [
    {
     "name": "stdout",
     "output_type": "stream",
     "text": [
      "101\n"
     ]
    }
   ],
   "source": [
    "# Get entry count\n",
    "\n",
    "index = cities_df.index\n",
    "cities_count = len(index)\n",
    "\n",
    "print(cities_count)"
   ]
  },
  {
   "cell_type": "markdown",
   "id": "35fcb417",
   "metadata": {},
   "source": [
    "# Find the Moving Average"
   ]
  },
  {
   "cell_type": "code",
   "execution_count": 15,
   "id": "991a02ee",
   "metadata": {},
   "outputs": [
    {
     "data": {
      "text/html": [
       "<div>\n",
       "<style scoped>\n",
       "    .dataframe tbody tr th:only-of-type {\n",
       "        vertical-align: middle;\n",
       "    }\n",
       "\n",
       "    .dataframe tbody tr th {\n",
       "        vertical-align: top;\n",
       "    }\n",
       "\n",
       "    .dataframe thead th {\n",
       "        text-align: right;\n",
       "    }\n",
       "</style>\n",
       "<table border=\"1\" class=\"dataframe\">\n",
       "  <thead>\n",
       "    <tr style=\"text-align: right;\">\n",
       "      <th></th>\n",
       "      <th>NYC M.A. (C°)</th>\n",
       "      <th>BOS M.A. (C°)</th>\n",
       "      <th>MIA M.A. (C°)</th>\n",
       "      <th>Global M.A. (C°)</th>\n",
       "      <th>Year</th>\n",
       "    </tr>\n",
       "  </thead>\n",
       "  <tbody>\n",
       "    <tr>\n",
       "      <th>143</th>\n",
       "      <td>10.760000</td>\n",
       "      <td>8.580000</td>\n",
       "      <td>23.290000</td>\n",
       "      <td>8.300000</td>\n",
       "      <td>1913</td>\n",
       "    </tr>\n",
       "    <tr>\n",
       "      <th>144</th>\n",
       "      <td>9.890000</td>\n",
       "      <td>7.735000</td>\n",
       "      <td>23.045000</td>\n",
       "      <td>8.445000</td>\n",
       "      <td>1914</td>\n",
       "    </tr>\n",
       "    <tr>\n",
       "      <th>145</th>\n",
       "      <td>9.876667</td>\n",
       "      <td>7.816667</td>\n",
       "      <td>22.916667</td>\n",
       "      <td>8.493333</td>\n",
       "      <td>1915</td>\n",
       "    </tr>\n",
       "    <tr>\n",
       "      <th>146</th>\n",
       "      <td>9.682500</td>\n",
       "      <td>7.625000</td>\n",
       "      <td>22.942500</td>\n",
       "      <td>8.427500</td>\n",
       "      <td>1916</td>\n",
       "    </tr>\n",
       "    <tr>\n",
       "      <th>147</th>\n",
       "      <td>9.394000</td>\n",
       "      <td>7.308000</td>\n",
       "      <td>22.872000</td>\n",
       "      <td>8.346000</td>\n",
       "      <td>1917</td>\n",
       "    </tr>\n",
       "  </tbody>\n",
       "</table>\n",
       "</div>"
      ],
      "text/plain": [
       "     NYC M.A. (C°)  BOS M.A. (C°)  MIA M.A. (C°)  Global M.A. (C°)  Year\n",
       "143      10.760000       8.580000      23.290000          8.300000  1913\n",
       "144       9.890000       7.735000      23.045000          8.445000  1914\n",
       "145       9.876667       7.816667      22.916667          8.493333  1915\n",
       "146       9.682500       7.625000      22.942500          8.427500  1916\n",
       "147       9.394000       7.308000      22.872000          8.346000  1917"
      ]
     },
     "metadata": {},
     "output_type": "display_data"
    }
   ],
   "source": [
    "# Calculate the moving average for all\n",
    "\n",
    "nyc_ma = cities_df[\"NYC Temp. (C°)\"].rolling(15, min_periods=1).mean()\n",
    "bos_ma = cities_df[\"BOS Temp. (C°)\"].rolling(15, min_periods=1).mean()\n",
    "mia_ma = cities_df[\"MIA Temp. (C°)\"].rolling(15, min_periods=1).mean()\n",
    "glo_ma = cities_df[\"Global Temp. (C°)\"].rolling(15, min_periods=1).mean()\n",
    "years = cities_df[\"Year\"]\n",
    "\n",
    "\n",
    "# Add values to a new DataFrame\n",
    "\n",
    "ma_df = pd.DataFrame({'NYC M.A. (C°)': nyc_ma, \n",
    "                      'BOS M.A. (C°)': bos_ma, \n",
    "                      'MIA M.A. (C°)': mia_ma, \n",
    "                      'Global M.A. (C°)': glo_ma, \n",
    "                      'Year': years})\n",
    "\n",
    "display(ma_df.head())"
   ]
  },
  {
   "cell_type": "code",
   "execution_count": 16,
   "id": "8867e11c",
   "metadata": {},
   "outputs": [
    {
     "data": {
      "text/html": [
       "<div>\n",
       "<style scoped>\n",
       "    .dataframe tbody tr th:only-of-type {\n",
       "        vertical-align: middle;\n",
       "    }\n",
       "\n",
       "    .dataframe tbody tr th {\n",
       "        vertical-align: top;\n",
       "    }\n",
       "\n",
       "    .dataframe thead th {\n",
       "        text-align: right;\n",
       "    }\n",
       "</style>\n",
       "<table border=\"1\" class=\"dataframe\">\n",
       "  <thead>\n",
       "    <tr style=\"text-align: right;\">\n",
       "      <th></th>\n",
       "      <th>NYC M.A. (C°)</th>\n",
       "      <th>BOS M.A. (C°)</th>\n",
       "      <th>MIA M.A. (C°)</th>\n",
       "      <th>Global M.A. (C°)</th>\n",
       "      <th>Year</th>\n",
       "    </tr>\n",
       "  </thead>\n",
       "  <tbody>\n",
       "    <tr>\n",
       "      <th>143</th>\n",
       "      <td>10.76</td>\n",
       "      <td>8.58</td>\n",
       "      <td>23.29</td>\n",
       "      <td>8.30</td>\n",
       "      <td>1913</td>\n",
       "    </tr>\n",
       "    <tr>\n",
       "      <th>144</th>\n",
       "      <td>9.89</td>\n",
       "      <td>7.74</td>\n",
       "      <td>23.04</td>\n",
       "      <td>8.44</td>\n",
       "      <td>1914</td>\n",
       "    </tr>\n",
       "    <tr>\n",
       "      <th>145</th>\n",
       "      <td>9.88</td>\n",
       "      <td>7.82</td>\n",
       "      <td>22.92</td>\n",
       "      <td>8.49</td>\n",
       "      <td>1915</td>\n",
       "    </tr>\n",
       "    <tr>\n",
       "      <th>146</th>\n",
       "      <td>9.68</td>\n",
       "      <td>7.62</td>\n",
       "      <td>22.94</td>\n",
       "      <td>8.43</td>\n",
       "      <td>1916</td>\n",
       "    </tr>\n",
       "    <tr>\n",
       "      <th>147</th>\n",
       "      <td>9.39</td>\n",
       "      <td>7.31</td>\n",
       "      <td>22.87</td>\n",
       "      <td>8.35</td>\n",
       "      <td>1917</td>\n",
       "    </tr>\n",
       "  </tbody>\n",
       "</table>\n",
       "</div>"
      ],
      "text/plain": [
       "     NYC M.A. (C°)  BOS M.A. (C°)  MIA M.A. (C°)  Global M.A. (C°)  Year\n",
       "143          10.76           8.58          23.29              8.30  1913\n",
       "144           9.89           7.74          23.04              8.44  1914\n",
       "145           9.88           7.82          22.92              8.49  1915\n",
       "146           9.68           7.62          22.94              8.43  1916\n",
       "147           9.39           7.31          22.87              8.35  1917"
      ]
     },
     "metadata": {},
     "output_type": "display_data"
    }
   ],
   "source": [
    "# Round values to 2 decimal points\n",
    "\n",
    "round_df = ma_df.round({'NYC M.A. (C°)': 2, \n",
    "                        'BOS M.A. (C°)': 2, \n",
    "                        'MIA M.A. (C°)': 2, \n",
    "                        'Global M.A. (C°)': 2})\n",
    "\n",
    "display(round_df.head())"
   ]
  },
  {
   "cell_type": "code",
   "execution_count": 17,
   "id": "380b0ea7",
   "metadata": {},
   "outputs": [
    {
     "data": {
      "text/html": [
       "<div>\n",
       "<style scoped>\n",
       "    .dataframe tbody tr th:only-of-type {\n",
       "        vertical-align: middle;\n",
       "    }\n",
       "\n",
       "    .dataframe tbody tr th {\n",
       "        vertical-align: top;\n",
       "    }\n",
       "\n",
       "    .dataframe thead th {\n",
       "        text-align: right;\n",
       "    }\n",
       "</style>\n",
       "<table border=\"1\" class=\"dataframe\">\n",
       "  <thead>\n",
       "    <tr style=\"text-align: right;\">\n",
       "      <th></th>\n",
       "      <th>NYC M.A. (C°)</th>\n",
       "      <th>BOS M.A. (C°)</th>\n",
       "      <th>MIA M.A. (C°)</th>\n",
       "      <th>Global M.A. (C°)</th>\n",
       "    </tr>\n",
       "    <tr>\n",
       "      <th>Year</th>\n",
       "      <th></th>\n",
       "      <th></th>\n",
       "      <th></th>\n",
       "      <th></th>\n",
       "    </tr>\n",
       "  </thead>\n",
       "  <tbody>\n",
       "    <tr>\n",
       "      <th>1913</th>\n",
       "      <td>10.76</td>\n",
       "      <td>8.58</td>\n",
       "      <td>23.29</td>\n",
       "      <td>8.30</td>\n",
       "    </tr>\n",
       "    <tr>\n",
       "      <th>1914</th>\n",
       "      <td>9.89</td>\n",
       "      <td>7.74</td>\n",
       "      <td>23.04</td>\n",
       "      <td>8.44</td>\n",
       "    </tr>\n",
       "    <tr>\n",
       "      <th>1915</th>\n",
       "      <td>9.88</td>\n",
       "      <td>7.82</td>\n",
       "      <td>22.92</td>\n",
       "      <td>8.49</td>\n",
       "    </tr>\n",
       "    <tr>\n",
       "      <th>1916</th>\n",
       "      <td>9.68</td>\n",
       "      <td>7.62</td>\n",
       "      <td>22.94</td>\n",
       "      <td>8.43</td>\n",
       "    </tr>\n",
       "    <tr>\n",
       "      <th>1917</th>\n",
       "      <td>9.39</td>\n",
       "      <td>7.31</td>\n",
       "      <td>22.87</td>\n",
       "      <td>8.35</td>\n",
       "    </tr>\n",
       "  </tbody>\n",
       "</table>\n",
       "</div>"
      ],
      "text/plain": [
       "      NYC M.A. (C°)  BOS M.A. (C°)  MIA M.A. (C°)  Global M.A. (C°)\n",
       "Year                                                               \n",
       "1913          10.76           8.58          23.29              8.30\n",
       "1914           9.89           7.74          23.04              8.44\n",
       "1915           9.88           7.82          22.92              8.49\n",
       "1916           9.68           7.62          22.94              8.43\n",
       "1917           9.39           7.31          22.87              8.35"
      ]
     },
     "metadata": {},
     "output_type": "display_data"
    }
   ],
   "source": [
    "# Set 'Year' column as the index \n",
    "\n",
    "mulcities_df = round_df.set_index('Year')\n",
    "\n",
    "mulcities_df.to_csv(\"../project_1/Output/MultipleCitiesDataset.csv\", index=True)\n",
    "\n",
    "display(mulcities_df.head())"
   ]
  },
  {
   "cell_type": "markdown",
   "id": "46ec6ad1",
   "metadata": {},
   "source": [
    "# Calculate Descriptive Statistics"
   ]
  },
  {
   "cell_type": "markdown",
   "id": "aca8aeb7",
   "metadata": {},
   "source": [
    "## Mean"
   ]
  },
  {
   "cell_type": "code",
   "execution_count": 18,
   "id": "c40b63f9",
   "metadata": {},
   "outputs": [
    {
     "name": "stdout",
     "output_type": "stream",
     "text": [
      "NYC M.A. (C°)       10.018515\n",
      "BOS M.A. (C°)        7.910297\n",
      "MIA M.A. (C°)       23.314752\n",
      "Global M.A. (C°)     8.729307\n",
      "dtype: float64\n"
     ]
    }
   ],
   "source": [
    "mean = mulcities_df.mean()\n",
    "\n",
    "print(mean)"
   ]
  },
  {
   "cell_type": "markdown",
   "id": "d66da24d",
   "metadata": {},
   "source": [
    "## Median"
   ]
  },
  {
   "cell_type": "code",
   "execution_count": 19,
   "id": "48d5a0b6",
   "metadata": {},
   "outputs": [
    {
     "name": "stdout",
     "output_type": "stream",
     "text": [
      "NYC M.A. (C°)        9.97\n",
      "BOS M.A. (C°)        7.86\n",
      "MIA M.A. (C°)       23.23\n",
      "Global M.A. (C°)     8.65\n",
      "dtype: float64\n"
     ]
    }
   ],
   "source": [
    "median = mulcities_df.median()\n",
    "\n",
    "print(median)"
   ]
  },
  {
   "cell_type": "markdown",
   "id": "20ebbf1a",
   "metadata": {},
   "source": [
    "## Mode"
   ]
  },
  {
   "cell_type": "code",
   "execution_count": 20,
   "id": "adee7a29",
   "metadata": {},
   "outputs": [
    {
     "name": "stdout",
     "output_type": "stream",
     "text": [
      "NYC M.A. (C°)        9.85\n",
      "BOS M.A. (C°)        7.75\n",
      "MIA M.A. (C°)       23.20\n",
      "Global M.A. (C°)     8.65\n",
      "Name: Mode, dtype: float64\n"
     ]
    }
   ],
   "source": [
    "mode = mulcities_df.mode()\n",
    "\n",
    "# Convert column names to index\n",
    "\n",
    "mode_2 = mode.transpose()\n",
    "\n",
    "# Convert '0' to a string & rename\n",
    "\n",
    "mode_3 = mode_2.rename(columns = {0:'Mode'}, inplace=True)\n",
    "\n",
    "mode_4 = pd.DataFrame(mode_3, columns=['Mode'])\n",
    "\n",
    "# Convert DataFrame to a float64\n",
    "\n",
    "mode_df = mode_2[\"Mode\"].astype(str).astype('float64')\n",
    "\n",
    "print(mode_df)"
   ]
  },
  {
   "cell_type": "markdown",
   "id": "f07f92e4",
   "metadata": {},
   "source": [
    "## Minimum"
   ]
  },
  {
   "cell_type": "code",
   "execution_count": 21,
   "id": "91257b99",
   "metadata": {},
   "outputs": [
    {
     "name": "stdout",
     "output_type": "stream",
     "text": [
      "NYC M.A. (C°)        9.39\n",
      "BOS M.A. (C°)        7.28\n",
      "MIA M.A. (C°)       22.87\n",
      "Global M.A. (C°)     8.30\n",
      "dtype: float64\n"
     ]
    }
   ],
   "source": [
    "df_min = mulcities_df.min()\n",
    "\n",
    "print(df_min)"
   ]
  },
  {
   "cell_type": "markdown",
   "id": "e2f0b4f6",
   "metadata": {},
   "source": [
    "## Maximum"
   ]
  },
  {
   "cell_type": "code",
   "execution_count": 22,
   "id": "ad7cc1b6",
   "metadata": {},
   "outputs": [
    {
     "name": "stdout",
     "output_type": "stream",
     "text": [
      "NYC M.A. (C°)       10.93\n",
      "BOS M.A. (C°)        8.88\n",
      "MIA M.A. (C°)       23.82\n",
      "Global M.A. (C°)     9.50\n",
      "dtype: float64\n"
     ]
    }
   ],
   "source": [
    "df_max = mulcities_df.max()\n",
    "\n",
    "print(df_max)"
   ]
  },
  {
   "cell_type": "markdown",
   "id": "8eaf8b98",
   "metadata": {},
   "source": [
    "## Range"
   ]
  },
  {
   "cell_type": "code",
   "execution_count": 23,
   "id": "79617a2d",
   "metadata": {},
   "outputs": [
    {
     "name": "stdout",
     "output_type": "stream",
     "text": [
      "NYC M.A. (C°)       1.54\n",
      "BOS M.A. (C°)       1.60\n",
      "MIA M.A. (C°)       0.95\n",
      "Global M.A. (C°)    1.20\n",
      "dtype: float64\n"
     ]
    }
   ],
   "source": [
    "df_range = df_max - df_min\n",
    "\n",
    "print(df_range)"
   ]
  },
  {
   "cell_type": "markdown",
   "id": "5cf01032",
   "metadata": {},
   "source": [
    "## Skewness"
   ]
  },
  {
   "cell_type": "code",
   "execution_count": 24,
   "id": "f3a92b9a",
   "metadata": {},
   "outputs": [
    {
     "name": "stdout",
     "output_type": "stream",
     "text": [
      "NYC M.A. (C°)       0.547463\n",
      "BOS M.A. (C°)       0.504626\n",
      "MIA M.A. (C°)       0.583991\n",
      "Global M.A. (C°)    1.069131\n",
      "dtype: float64\n"
     ]
    }
   ],
   "source": [
    "skew = mulcities_df.skew()\n",
    "\n",
    "print(skew)"
   ]
  },
  {
   "cell_type": "markdown",
   "id": "91ccf98d",
   "metadata": {},
   "source": [
    "## Standard Deviation"
   ]
  },
  {
   "cell_type": "code",
   "execution_count": 25,
   "id": "3b0568ab",
   "metadata": {},
   "outputs": [
    {
     "name": "stdout",
     "output_type": "stream",
     "text": [
      "NYC M.A. (C°)       0.329938\n",
      "BOS M.A. (C°)       0.342311\n",
      "MIA M.A. (C°)       0.255740\n",
      "Global M.A. (C°)    0.293381\n",
      "dtype: float64\n"
     ]
    }
   ],
   "source": [
    "stan_dev = mulcities_df.std()\n",
    "\n",
    "print(stan_dev)"
   ]
  },
  {
   "cell_type": "markdown",
   "id": "b02a3279",
   "metadata": {},
   "source": [
    "## Add to a DataFrame"
   ]
  },
  {
   "cell_type": "code",
   "execution_count": 26,
   "id": "71368638",
   "metadata": {},
   "outputs": [],
   "source": [
    "stats = pd.DataFrame({'Mean': mean, \n",
    "                      'Median': median, \n",
    "                      'Mode': mode_df,\n",
    "                      'Min': df_min, \n",
    "                      'Max': df_max, \n",
    "                      'Range': df_range, \n",
    "                      'Skew': skew, \n",
    "                      'Standard Deviation': stan_dev})\n",
    "\n",
    "stats_df = stats.round({'Mean': 2, \n",
    "                        'Median': 2, \n",
    "                        'Mode': 2, \n",
    "                        'Min': 2, \n",
    "                        'Max': 2, \n",
    "                        'Range': 2, \n",
    "                        'Skew': 2, \n",
    "                        'Standard Deviation': 2})"
   ]
  },
  {
   "cell_type": "markdown",
   "id": "0a60db10",
   "metadata": {},
   "source": [
    "# Visualize The Data"
   ]
  },
  {
   "cell_type": "code",
   "execution_count": 27,
   "id": "e0c105ed",
   "metadata": {},
   "outputs": [
    {
     "data": {
      "application/pdf": "[encoded data removed]",
      "image/png": "[encoded data removed]",
      "text/plain": [
       "<Figure size 1296x720 with 1 Axes>"
      ]
     },
     "metadata": {
      "needs_background": "light"
     },
     "output_type": "display_data"
    }
   ],
   "source": [
    "# Build Line Chart\n",
    "\n",
    "\n",
    "## Plot the chart\n",
    "mulcities_df.plot(linestyle='-', \n",
    "                  color=['seagreen', 'skyblue', 'coral', 'purple'], \n",
    "                  figsize=(18, 10), \n",
    "                  linewidth=2)\n",
    "\n",
    "## Add chart properties\n",
    "\n",
    "### Labels\n",
    "\n",
    "plt.title('Moving Average Temperature', fontsize=25)\n",
    "plt.xlabel('Year', fontsize=20)\n",
    "plt.ylabel('Temperature (C°)', fontsize=20)\n",
    "\n",
    "### Add a blurb describing the chart's purpose\n",
    "\n",
    "plt.text(1920, 4.5, \n",
    "         \"Note: This line chart represents the correlation between Global, New York City, Boston, & Miami temperatures.\", \n",
    "         fontsize=15, \n",
    "         style='italic')\n",
    "plt.text(1925, 4.0, \n",
    "         \"Plot points represent the moving average of 15 years in a 100-year period\", \n",
    "         fontsize=15, \n",
    "         style='italic')\n",
    "\n",
    "### Grid\n",
    "\n",
    "plt.grid(linewidth=0.5, color='black')\n",
    "plt.xticks()\n",
    "plt.yticks()\n",
    "\n",
    "plt.xlim(1912, 2014)\n",
    "plt.ylim(6.8, 24.5)\n",
    "\n",
    "\n",
    "### Legend\n",
    "legend = plt.legend(title = \"Locations\", \n",
    "                    frameon=True, \n",
    "                    edgecolor='black', \n",
    "                    labels=['NYC', 'BOS', 'MIA', 'Global'])\n",
    "\n",
    "\n",
    "# Save Chart\n",
    "plt.savefig(\"../project_1/Output/TrendsPlot2.png\", bbox_inches='tight')\n",
    "\n",
    "plt.show()"
   ]
  },
  {
   "cell_type": "markdown",
   "id": "dc75f9b7",
   "metadata": {},
   "source": [
    "# Observations"
   ]
  },
  {
   "cell_type": "markdown",
   "id": "026b0304",
   "metadata": {},
   "source": [
    "## Statistics"
   ]
  },
  {
   "cell_type": "code",
   "execution_count": 28,
   "id": "82c44349",
   "metadata": {},
   "outputs": [
    {
     "data": {
      "text/html": [
       "<div>\n",
       "<style scoped>\n",
       "    .dataframe tbody tr th:only-of-type {\n",
       "        vertical-align: middle;\n",
       "    }\n",
       "\n",
       "    .dataframe tbody tr th {\n",
       "        vertical-align: top;\n",
       "    }\n",
       "\n",
       "    .dataframe thead th {\n",
       "        text-align: right;\n",
       "    }\n",
       "</style>\n",
       "<table border=\"1\" class=\"dataframe\">\n",
       "  <thead>\n",
       "    <tr style=\"text-align: right;\">\n",
       "      <th></th>\n",
       "      <th>Mean</th>\n",
       "      <th>Median</th>\n",
       "      <th>Mode</th>\n",
       "      <th>Min</th>\n",
       "      <th>Max</th>\n",
       "      <th>Range</th>\n",
       "      <th>Skew</th>\n",
       "      <th>Standard Deviation</th>\n",
       "    </tr>\n",
       "  </thead>\n",
       "  <tbody>\n",
       "    <tr>\n",
       "      <th>NYC M.A. (C°)</th>\n",
       "      <td>10.02</td>\n",
       "      <td>9.97</td>\n",
       "      <td>9.85</td>\n",
       "      <td>9.39</td>\n",
       "      <td>10.93</td>\n",
       "      <td>1.54</td>\n",
       "      <td>0.55</td>\n",
       "      <td>0.33</td>\n",
       "    </tr>\n",
       "    <tr>\n",
       "      <th>BOS M.A. (C°)</th>\n",
       "      <td>7.91</td>\n",
       "      <td>7.86</td>\n",
       "      <td>7.75</td>\n",
       "      <td>7.28</td>\n",
       "      <td>8.88</td>\n",
       "      <td>1.60</td>\n",
       "      <td>0.50</td>\n",
       "      <td>0.34</td>\n",
       "    </tr>\n",
       "    <tr>\n",
       "      <th>MIA M.A. (C°)</th>\n",
       "      <td>23.31</td>\n",
       "      <td>23.23</td>\n",
       "      <td>23.20</td>\n",
       "      <td>22.87</td>\n",
       "      <td>23.82</td>\n",
       "      <td>0.95</td>\n",
       "      <td>0.58</td>\n",
       "      <td>0.26</td>\n",
       "    </tr>\n",
       "    <tr>\n",
       "      <th>Global M.A. (C°)</th>\n",
       "      <td>8.73</td>\n",
       "      <td>8.65</td>\n",
       "      <td>8.65</td>\n",
       "      <td>8.30</td>\n",
       "      <td>9.50</td>\n",
       "      <td>1.20</td>\n",
       "      <td>1.07</td>\n",
       "      <td>0.29</td>\n",
       "    </tr>\n",
       "  </tbody>\n",
       "</table>\n",
       "</div>"
      ],
      "text/plain": [
       "                   Mean  Median   Mode    Min    Max  Range  Skew  \\\n",
       "NYC M.A. (C°)     10.02    9.97   9.85   9.39  10.93   1.54  0.55   \n",
       "BOS M.A. (C°)      7.91    7.86   7.75   7.28   8.88   1.60  0.50   \n",
       "MIA M.A. (C°)     23.31   23.23  23.20  22.87  23.82   0.95  0.58   \n",
       "Global M.A. (C°)   8.73    8.65   8.65   8.30   9.50   1.20  1.07   \n",
       "\n",
       "                  Standard Deviation  \n",
       "NYC M.A. (C°)                   0.33  \n",
       "BOS M.A. (C°)                   0.34  \n",
       "MIA M.A. (C°)                   0.26  \n",
       "Global M.A. (C°)                0.29  "
      ]
     },
     "metadata": {},
     "output_type": "display_data"
    }
   ],
   "source": [
    "display(stats_df)"
   ]
  },
  {
   "cell_type": "markdown",
   "id": "2d7da3b1",
   "metadata": {},
   "source": [
    "## Are your cities hotter or cooler on average compared to the global average? Has the difference been consistent over time?"
   ]
  },
  {
   "cell_type": "markdown",
   "id": "4cd64e31",
   "metadata": {},
   "source": [
    "#### - New York City & Miami, on average, are consistently hotter than the Global temperature while Boston is consistently cooler."
   ]
  },
  {
   "cell_type": "markdown",
   "id": "c9f8dca4",
   "metadata": {},
   "source": [
    "## How do the changes in your cities' temperatures over time compare to the changes in the global average?"
   ]
  },
  {
   "cell_type": "markdown",
   "id": "f8a2e3a7",
   "metadata": {},
   "source": [
    "#### - New York: New York City's average temperatures fluctuate from hotter temperatures (11° C), to cooler ones (9.5° C). Then the temperatures gradually increase to 10.9 - 11° C.\n",
    "\n",
    "#### - Boston: Boston's average temperatures fluctuate from hotter temperatures (8.5° C), to cooler ones (7° C). Then the temperatures gradually increase to 8.5° C. This is expected as New England weather is generally colder than most states in the Northeast."
   ]
  },
  {
   "cell_type": "markdown",
   "id": "0fb46726",
   "metadata": {},
   "source": [
    "#### - Miami: Miami's average temperatures fluctuate between hotter temperatures 22.5° C & 23° C. Then the temperatures remain just above 23.5° C at first, then gradually increase to just below 24° C. This is expected as Florida has a tropical climate.\n",
    "\n",
    "#### - Global: The global average temperatures fluctuate between cooler temperatures 8° C and 8.5° C. Then the temperatures gradually increase about 9.8° C."
   ]
  },
  {
   "cell_type": "markdown",
   "id": "7d7d94ea",
   "metadata": {},
   "source": [
    "## What does the overall trend look like? Is the world getting hotter or cooler? Has the trend been consistent over the last few hundred years?"
   ]
  },
  {
   "cell_type": "markdown",
   "id": "a9ddda17",
   "metadata": {},
   "source": [
    "#### - The world is getting hotter over the progressing years. This has been a consistent, gradual increase."
   ]
  },
  {
   "cell_type": "markdown",
   "id": "f5f19a2c",
   "metadata": {},
   "source": [
    "#### - You'll notice that Boston has the lowest temperatures between the 1913 - 2013."
   ]
  },
  {
   "cell_type": "markdown",
   "id": "e1097dd1",
   "metadata": {},
   "source": [
    "# Citations"
   ]
  },
  {
   "cell_type": "markdown",
   "id": "1aae25dc",
   "metadata": {},
   "source": [
    "## To Review the Data"
   ]
  },
  {
   "cell_type": "markdown",
   "id": "40908d45",
   "metadata": {},
   "source": [
    "#### Clean-Up: [Pandas Documentation](https://pandas.pydata.org/docs/reference/api/pandas.DataFrame.html)"
   ]
  },
  {
   "cell_type": "markdown",
   "id": "75fb1d17",
   "metadata": {},
   "source": [
    "#### Moving Average: [Rolling Method](https://pandas.pydata.org/docs/reference/api/pandas.DataFrame.rolling.html)"
   ]
  },
  {
   "cell_type": "markdown",
   "id": "e34ae9c9",
   "metadata": {},
   "source": [
    "## To Plot the Chart"
   ]
  },
  {
   "cell_type": "markdown",
   "id": "b30c7b38",
   "metadata": {},
   "source": [
    "#### Line Graph: [Python Graph Gallery](https://www.python-graph-gallery.com/121-line-chart-customization)"
   ]
  },
  {
   "cell_type": "markdown",
   "id": "4f633a48",
   "metadata": {},
   "source": [
    "## To Export to PDF"
   ]
  },
  {
   "cell_type": "markdown",
   "id": "8df89139",
   "metadata": {},
   "source": [
    "#### How-To: [Open Library](https://ecampusontario.pressbooks.pub/rwsnotes/back-matter/getting-started-with-jupyter-notebooks/)"
   ]
  },
  {
   "cell_type": "markdown",
   "id": "fb05bb88",
   "metadata": {},
   "source": [
    "#### Download Link: [MacTex](http://tug.org/mactex/mactex-download.html)"
   ]
  },
  {
   "cell_type": "markdown",
   "id": "da40948a",
   "metadata": {},
   "source": [
    "#### To Embed Hyperlinks: [StackOverflow](https://stackoverflow.com/questions/25698448/how-to-embed-html-into-ipython-output)"
   ]
  }
 ],
 "metadata": {
  "kernelspec": {
   "display_name": "Python 3",
   "language": "python",
   "name": "python3"
  },
  "language_info": {
   "codemirror_mode": {
    "name": "ipython",
    "version": 3
   },
   "file_extension": ".py",
   "mimetype": "text/x-python",
   "name": "python",
   "nbconvert_exporter": "python",
   "pygments_lexer": "ipython3",
   "version": "3.8.8"
  }
 },
 "nbformat": 4,
 "nbformat_minor": 5
}
